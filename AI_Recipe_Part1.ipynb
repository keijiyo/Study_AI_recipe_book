{
  "nbformat": 4,
  "nbformat_minor": 0,
  "metadata": {
    "colab": {
      "name": "AI_Recipe_Part1.ipynb",
      "provenance": [],
      "toc_visible": true,
      "authorship_tag": "ABX9TyP5Buhzdk6tE2d1oU2zFwKq",
      "include_colab_link": true
    },
    "kernelspec": {
      "name": "python3",
      "display_name": "Python 3"
    },
    "language_info": {
      "name": "python"
    }
  },
  "cells": [
    {
      "cell_type": "markdown",
      "metadata": {
        "id": "view-in-github",
        "colab_type": "text"
      },
      "source": [
        "<a href=\"https://colab.research.google.com/github/keijiyo/Study_AI_recipe_book/blob/main/AI_Recipe_Part1.ipynb\" target=\"_parent\"><img src=\"https://colab.research.google.com/assets/colab-badge.svg\" alt=\"Open In Colab\"/></a>"
      ]
    },
    {
      "cell_type": "markdown",
      "source": [
        "#Part 1　プロセスの一般論"
      ],
      "metadata": {
        "id": "q-rtL8-MJGdv"
      }
    },
    {
      "cell_type": "code",
      "execution_count": null,
      "metadata": {
        "id": "VQaL9aAeEbIq"
      },
      "outputs": [],
      "source": [
        "# Part 1"
      ]
    },
    {
      "cell_type": "markdown",
      "source": [
        "## Introduction\n",
        "一般的なプロセスの紹介\n",
        "\n",
        "|プリアナリティクス|データマスター作成|基礎集計、可視化|モデリング|評価|\n",
        "|:-|:-|:-|:-|:-|\n",
        "|・要件ヒアリング<br>・期待値コントロール<br>・成果物設定<br>・分析方向性立案<br>・データ連携方法確認<br>・データ受領・確認|・マスターデータ作成<br>・データの集約<br>・データの前処理|・単純集計<br>・クロス集計<br>・相関分析|・モデリング|・評価用データでの評価<br>・シミュレーション|\n",
        "|・提案書<br>　- スケジュール<br>　- 予算<br>　- 体制<br>　- 成果物<br>・データ連携図<br>・データ一覧|・データ作成手順書<br>・マスターデータ|・集計表<br>・散布図などの図表|・モデル|・評価結果<br>　- AR値<br>　- AUC値<br>　- 正解率<br>　- F値<br>・シミュレーション結果<br>・最終報告書|\n"
      ],
      "metadata": {
        "id": "qEiawTb-LE_b"
      }
    },
    {
      "cell_type": "markdown",
      "source": [
        "##レシピ1.1　プリアナリティクス\n",
        "\n",
        "##分析方向性立案\n",
        "\n",
        "- ECサイト改善の例\n",
        "\n",
        "|分析方向性立案のステップ|アウトプット|備考|\n",
        "|:--|:--|:--|\n",
        "|1. KGIの設定|課題策定より、売上/年間を設定|ステークホルダーとすり合わせ|\n",
        "|2. KPIに分解|ツリー上に頂点のKGIに対してKPIで分解するイメージ|抜けもれなく分解|\n",
        "|3. コントロール可能変数の特定|訪問ユーザーのうち、特に新規ユーザー数が減少傾向|例えば、投下広告費用、Webの接触コンテンツ数|\n",
        "|4. 仮説立案|①検索語訪問率が低い<br>②（自社ECの）認知率が低い|分解したKPIに対してボトルネック個所を探す<br>それに対する仮説（課題）群を見つける|\n",
        "|5. 分析方向性立案と評価|何のために、どのような分析を行うか|ボトルネックKPIがコントロール可能変数と対応あり。→施策対象として検討|\n",
        "<br>\n",
        "  \n",
        "- 評価と優先順位の検討  \n",
        "ボトルネック→仮説→施策のための分析→評価  \n",
        "インパクトと実現可能性の観点で評価し、優先順位を決める  \n"
      ],
      "metadata": {
        "id": "B145O55ZVUWE"
      }
    },
    {
      "cell_type": "markdown",
      "source": [
        "##レシピ1.2　分析マスターデータ作成\n",
        "\n",
        "データ集約、結合等して欠損値処理などを実施"
      ],
      "metadata": {
        "id": "w_nXMZZpbzdY"
      }
    },
    {
      "cell_type": "markdown",
      "source": [
        "##レシピ1.3　基礎集計と可視化\n",
        "\n",
        "- 説明可能性は大事。\n",
        "- 本作業は前処理と行き来することもあるのが普通。"
      ],
      "metadata": {
        "id": "7ZQMpjSccWOd"
      }
    },
    {
      "cell_type": "markdown",
      "source": [
        "##レシピ1.4　モデリング\n",
        "書籍のPart 2 以降で解説あり。"
      ],
      "metadata": {
        "id": "gcBmWQlLdPht"
      }
    },
    {
      "cell_type": "markdown",
      "source": [
        "##レシピ1.5　評価・実装\n",
        "\n",
        "- 2値予測の評価指標\n",
        "$$ 正解率 = \\frac{TN + TP}{TN + FN  + TP + FP} $$  \n",
        "$$ 適合率 = \\frac{TP}{TP + FP} $$  \n",
        "$$ 再現率 = \\frac{TP}{FN  + TP} $$\n",
        "再現率は偽陰性をなくしたい時に有効。  \n",
        "モデル自体の評価にはROCカーブを使う。AUCが大きいと良いモデルとされる。  \n",
        "　縦軸：再現、横軸：1 - 特異度  下記URLの「陽性尤度比」にあたる。  \n",
        "　https://bellcurve.jp/statistics/course/14802.html\n",
        "$$ 特異度 = \\frac{TN}{TN + FN} $$  "
      ],
      "metadata": {
        "id": "EFDhCerBfENL"
      }
    }
  ]
}