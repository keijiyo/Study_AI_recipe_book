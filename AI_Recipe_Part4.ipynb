{
  "nbformat": 4,
  "nbformat_minor": 0,
  "metadata": {
    "colab": {
      "name": "AI_Recipe_Part4.ipynb",
      "provenance": [],
      "collapsed_sections": [],
      "toc_visible": true,
      "include_colab_link": true
    },
    "kernelspec": {
      "name": "python3",
      "display_name": "Python 3"
    }
  },
  "cells": [
    {
      "cell_type": "markdown",
      "metadata": {
        "id": "view-in-github",
        "colab_type": "text"
      },
      "source": [
        "<a href=\"https://colab.research.google.com/github/keijiyo/Study_AI_recipe_book/blob/main/AI_Recipe_Part4.ipynb\" target=\"_parent\"><img src=\"https://colab.research.google.com/assets/colab-badge.svg\" alt=\"Open In Colab\"/></a>"
      ]
    },
    {
      "cell_type": "markdown",
      "source": [
        "#Part 4　キャンペーンデータ×ロジスティック回帰分析モデル"
      ],
      "metadata": {
        "id": "YqCS1DeOHOIW"
      }
    },
    {
      "cell_type": "markdown",
      "source": [
        "## introduction\n",
        "\n",
        "広告キャンペーンの対象を見つけたい\n",
        "\n",
        "過去データを使い広告キャンペーンの効果を予測\n",
        "\n",
        "予測に基づいたキャンペーン対象の選択と改善方法"
      ],
      "metadata": {
        "id": "nPTdK-SOpB14"
      }
    },
    {
      "cell_type": "markdown",
      "source": [
        "## レシピ4.1　キャンペーンのための分析設計"
      ],
      "metadata": {
        "id": "jJrzAE83prnW"
      }
    },
    {
      "cell_type": "markdown",
      "source": [
        "データのダウンロード"
      ],
      "metadata": {
        "id": "XUjm5esAp5En"
      }
    },
    {
      "cell_type": "code",
      "metadata": {
        "id": "RTi5OOOPaOuR",
        "colab": {
          "base_uri": "https://localhost:8080/"
        },
        "outputId": "626fe435-ae7a-495b-9213-9069e488b508"
      },
      "source": [
        "!wget http://archive.ics.uci.edu/ml/machine-learning-databases/00222/bank.zip ./bank.zip\n",
        "!unzip -o ./bank.zip\n",
        "# !wget https://archive.ics.uci.edu/ml/machine-learning-databases/00222/bank-additional.zip ./bank-additional.zip\n",
        "# !unzip -o ./bank-additional.zip"
      ],
      "execution_count": 2,
      "outputs": [
        {
          "output_type": "stream",
          "name": "stdout",
          "text": [
            "--2022-08-16 16:08:15--  http://archive.ics.uci.edu/ml/machine-learning-databases/00222/bank.zip\n",
            "Resolving archive.ics.uci.edu (archive.ics.uci.edu)... 128.195.10.252\n",
            "Connecting to archive.ics.uci.edu (archive.ics.uci.edu)|128.195.10.252|:80... connected.\n",
            "HTTP request sent, awaiting response... 200 OK\n",
            "Length: 579043 (565K) [application/x-httpd-php]\n",
            "Saving to: ‘bank.zip’\n",
            "\n",
            "\rbank.zip              0%[                    ]       0  --.-KB/s               \rbank.zip            100%[===================>] 565.47K  --.-KB/s    in 0.09s   \n",
            "\n",
            "2022-08-16 16:08:15 (5.84 MB/s) - ‘bank.zip’ saved [579043/579043]\n",
            "\n",
            "--2022-08-16 16:08:15--  http://./bank.zip\n",
            "Resolving . (.)... failed: No address associated with hostname.\n",
            "wget: unable to resolve host address ‘.’\n",
            "FINISHED --2022-08-16 16:08:15--\n",
            "Total wall clock time: 0.2s\n",
            "Downloaded: 1 files, 565K in 0.09s (5.84 MB/s)\n",
            "Archive:  ./bank.zip\n",
            "  inflating: bank-full.csv           \n",
            "  inflating: bank-names.txt          \n",
            "  inflating: bank.csv                \n"
          ]
        }
      ]
    },
    {
      "cell_type": "markdown",
      "source": [
        "Google strage（GCP）へのアクセス権が必要"
      ],
      "metadata": {
        "id": "Ty-YmR13wcD2"
      }
    },
    {
      "cell_type": "code",
      "metadata": {
        "id": "0bVHEsHvrmpR",
        "colab": {
          "base_uri": "https://localhost:8080/"
        },
        "outputId": "702bd6ce-390d-4331-ca09-7ef9df11ca1a"
      },
      "source": [
        "!wget https://storage.googleapis.com/kagglesdsdata/datasets/894/813759/2019.csv"
      ],
      "execution_count": 2,
      "outputs": [
        {
          "output_type": "stream",
          "name": "stdout",
          "text": [
            "--2022-08-14 12:51:00--  https://storage.googleapis.com/kagglesdsdata/datasets/894/813759/2019.csv\n",
            "Resolving storage.googleapis.com (storage.googleapis.com)... 74.125.28.128, 74.125.134.128, 74.125.141.128, ...\n",
            "Connecting to storage.googleapis.com (storage.googleapis.com)|74.125.28.128|:443... connected.\n",
            "HTTP request sent, awaiting response... 403 Forbidden\n",
            "2022-08-14 12:51:00 ERROR 403: Forbidden.\n",
            "\n"
          ]
        }
      ]
    },
    {
      "cell_type": "code",
      "source": [
        "# ダウンロードファイルの確認\n",
        "!ls"
      ],
      "metadata": {
        "colab": {
          "base_uri": "https://localhost:8080/"
        },
        "id": "mbCEBkf3E62G",
        "outputId": "dce6e6f2-8aee-48f5-bd62-8a4c20ab9bcc"
      },
      "execution_count": 3,
      "outputs": [
        {
          "output_type": "stream",
          "name": "stdout",
          "text": [
            "bank.csv  bank-full.csv  bank-names.txt  bank.zip  sample_data\n"
          ]
        }
      ]
    },
    {
      "cell_type": "markdown",
      "source": [
        "ライブラリのインポート"
      ],
      "metadata": {
        "id": "ejMnmNy3qAHm"
      }
    },
    {
      "cell_type": "code",
      "metadata": {
        "id": "c8U5BxOHAIWN"
      },
      "source": [
        "import pandas as pd\n",
        "from sklearn.model_selection import train_test_split\n",
        "from copy import copy"
      ],
      "execution_count": 4,
      "outputs": []
    },
    {
      "cell_type": "markdown",
      "source": [
        "データの読み込み\n",
        "\n",
        "id列を追加する方法1"
      ],
      "metadata": {
        "id": "VtoGTAwy-hNL"
      }
    },
    {
      "cell_type": "code",
      "metadata": {
        "id": "qYUMhKe0wx8p",
        "colab": {
          "base_uri": "https://localhost:8080/",
          "height": 206
        },
        "outputId": "62cc77e3-5748-44fb-b677-694c635c71ac"
      },
      "source": [
        "df = pd.read_table('./bank-full.csv', delimiter=';')\n",
        "df['id'] = pd.RangeIndex(len(df))\n",
        "df.head(5)"
      ],
      "execution_count": 5,
      "outputs": [
        {
          "output_type": "execute_result",
          "data": {
            "text/plain": [
              "   age           job  marital  education default  balance housing loan  \\\n",
              "0   58    management  married   tertiary      no     2143     yes   no   \n",
              "1   44    technician   single  secondary      no       29     yes   no   \n",
              "2   33  entrepreneur  married  secondary      no        2     yes  yes   \n",
              "3   47   blue-collar  married    unknown      no     1506     yes   no   \n",
              "4   33       unknown   single    unknown      no        1      no   no   \n",
              "\n",
              "   contact  day month  duration  campaign  pdays  previous poutcome   y  id  \n",
              "0  unknown    5   may       261         1     -1         0  unknown  no   0  \n",
              "1  unknown    5   may       151         1     -1         0  unknown  no   1  \n",
              "2  unknown    5   may        76         1     -1         0  unknown  no   2  \n",
              "3  unknown    5   may        92         1     -1         0  unknown  no   3  \n",
              "4  unknown    5   may       198         1     -1         0  unknown  no   4  "
            ],
            "text/html": [
              "\n",
              "  <div id=\"df-5cc71efc-e7d4-48a2-91c7-6278eb3f6e62\">\n",
              "    <div class=\"colab-df-container\">\n",
              "      <div>\n",
              "<style scoped>\n",
              "    .dataframe tbody tr th:only-of-type {\n",
              "        vertical-align: middle;\n",
              "    }\n",
              "\n",
              "    .dataframe tbody tr th {\n",
              "        vertical-align: top;\n",
              "    }\n",
              "\n",
              "    .dataframe thead th {\n",
              "        text-align: right;\n",
              "    }\n",
              "</style>\n",
              "<table border=\"1\" class=\"dataframe\">\n",
              "  <thead>\n",
              "    <tr style=\"text-align: right;\">\n",
              "      <th></th>\n",
              "      <th>age</th>\n",
              "      <th>job</th>\n",
              "      <th>marital</th>\n",
              "      <th>education</th>\n",
              "      <th>default</th>\n",
              "      <th>balance</th>\n",
              "      <th>housing</th>\n",
              "      <th>loan</th>\n",
              "      <th>contact</th>\n",
              "      <th>day</th>\n",
              "      <th>month</th>\n",
              "      <th>duration</th>\n",
              "      <th>campaign</th>\n",
              "      <th>pdays</th>\n",
              "      <th>previous</th>\n",
              "      <th>poutcome</th>\n",
              "      <th>y</th>\n",
              "      <th>id</th>\n",
              "    </tr>\n",
              "  </thead>\n",
              "  <tbody>\n",
              "    <tr>\n",
              "      <th>0</th>\n",
              "      <td>58</td>\n",
              "      <td>management</td>\n",
              "      <td>married</td>\n",
              "      <td>tertiary</td>\n",
              "      <td>no</td>\n",
              "      <td>2143</td>\n",
              "      <td>yes</td>\n",
              "      <td>no</td>\n",
              "      <td>unknown</td>\n",
              "      <td>5</td>\n",
              "      <td>may</td>\n",
              "      <td>261</td>\n",
              "      <td>1</td>\n",
              "      <td>-1</td>\n",
              "      <td>0</td>\n",
              "      <td>unknown</td>\n",
              "      <td>no</td>\n",
              "      <td>0</td>\n",
              "    </tr>\n",
              "    <tr>\n",
              "      <th>1</th>\n",
              "      <td>44</td>\n",
              "      <td>technician</td>\n",
              "      <td>single</td>\n",
              "      <td>secondary</td>\n",
              "      <td>no</td>\n",
              "      <td>29</td>\n",
              "      <td>yes</td>\n",
              "      <td>no</td>\n",
              "      <td>unknown</td>\n",
              "      <td>5</td>\n",
              "      <td>may</td>\n",
              "      <td>151</td>\n",
              "      <td>1</td>\n",
              "      <td>-1</td>\n",
              "      <td>0</td>\n",
              "      <td>unknown</td>\n",
              "      <td>no</td>\n",
              "      <td>1</td>\n",
              "    </tr>\n",
              "    <tr>\n",
              "      <th>2</th>\n",
              "      <td>33</td>\n",
              "      <td>entrepreneur</td>\n",
              "      <td>married</td>\n",
              "      <td>secondary</td>\n",
              "      <td>no</td>\n",
              "      <td>2</td>\n",
              "      <td>yes</td>\n",
              "      <td>yes</td>\n",
              "      <td>unknown</td>\n",
              "      <td>5</td>\n",
              "      <td>may</td>\n",
              "      <td>76</td>\n",
              "      <td>1</td>\n",
              "      <td>-1</td>\n",
              "      <td>0</td>\n",
              "      <td>unknown</td>\n",
              "      <td>no</td>\n",
              "      <td>2</td>\n",
              "    </tr>\n",
              "    <tr>\n",
              "      <th>3</th>\n",
              "      <td>47</td>\n",
              "      <td>blue-collar</td>\n",
              "      <td>married</td>\n",
              "      <td>unknown</td>\n",
              "      <td>no</td>\n",
              "      <td>1506</td>\n",
              "      <td>yes</td>\n",
              "      <td>no</td>\n",
              "      <td>unknown</td>\n",
              "      <td>5</td>\n",
              "      <td>may</td>\n",
              "      <td>92</td>\n",
              "      <td>1</td>\n",
              "      <td>-1</td>\n",
              "      <td>0</td>\n",
              "      <td>unknown</td>\n",
              "      <td>no</td>\n",
              "      <td>3</td>\n",
              "    </tr>\n",
              "    <tr>\n",
              "      <th>4</th>\n",
              "      <td>33</td>\n",
              "      <td>unknown</td>\n",
              "      <td>single</td>\n",
              "      <td>unknown</td>\n",
              "      <td>no</td>\n",
              "      <td>1</td>\n",
              "      <td>no</td>\n",
              "      <td>no</td>\n",
              "      <td>unknown</td>\n",
              "      <td>5</td>\n",
              "      <td>may</td>\n",
              "      <td>198</td>\n",
              "      <td>1</td>\n",
              "      <td>-1</td>\n",
              "      <td>0</td>\n",
              "      <td>unknown</td>\n",
              "      <td>no</td>\n",
              "      <td>4</td>\n",
              "    </tr>\n",
              "  </tbody>\n",
              "</table>\n",
              "</div>\n",
              "      <button class=\"colab-df-convert\" onclick=\"convertToInteractive('df-5cc71efc-e7d4-48a2-91c7-6278eb3f6e62')\"\n",
              "              title=\"Convert this dataframe to an interactive table.\"\n",
              "              style=\"display:none;\">\n",
              "        \n",
              "  <svg xmlns=\"http://www.w3.org/2000/svg\" height=\"24px\"viewBox=\"0 0 24 24\"\n",
              "       width=\"24px\">\n",
              "    <path d=\"M0 0h24v24H0V0z\" fill=\"none\"/>\n",
              "    <path d=\"M18.56 5.44l.94 2.06.94-2.06 2.06-.94-2.06-.94-.94-2.06-.94 2.06-2.06.94zm-11 1L8.5 8.5l.94-2.06 2.06-.94-2.06-.94L8.5 2.5l-.94 2.06-2.06.94zm10 10l.94 2.06.94-2.06 2.06-.94-2.06-.94-.94-2.06-.94 2.06-2.06.94z\"/><path d=\"M17.41 7.96l-1.37-1.37c-.4-.4-.92-.59-1.43-.59-.52 0-1.04.2-1.43.59L10.3 9.45l-7.72 7.72c-.78.78-.78 2.05 0 2.83L4 21.41c.39.39.9.59 1.41.59.51 0 1.02-.2 1.41-.59l7.78-7.78 2.81-2.81c.8-.78.8-2.07 0-2.86zM5.41 20L4 18.59l7.72-7.72 1.47 1.35L5.41 20z\"/>\n",
              "  </svg>\n",
              "      </button>\n",
              "      \n",
              "  <style>\n",
              "    .colab-df-container {\n",
              "      display:flex;\n",
              "      flex-wrap:wrap;\n",
              "      gap: 12px;\n",
              "    }\n",
              "\n",
              "    .colab-df-convert {\n",
              "      background-color: #E8F0FE;\n",
              "      border: none;\n",
              "      border-radius: 50%;\n",
              "      cursor: pointer;\n",
              "      display: none;\n",
              "      fill: #1967D2;\n",
              "      height: 32px;\n",
              "      padding: 0 0 0 0;\n",
              "      width: 32px;\n",
              "    }\n",
              "\n",
              "    .colab-df-convert:hover {\n",
              "      background-color: #E2EBFA;\n",
              "      box-shadow: 0px 1px 2px rgba(60, 64, 67, 0.3), 0px 1px 3px 1px rgba(60, 64, 67, 0.15);\n",
              "      fill: #174EA6;\n",
              "    }\n",
              "\n",
              "    [theme=dark] .colab-df-convert {\n",
              "      background-color: #3B4455;\n",
              "      fill: #D2E3FC;\n",
              "    }\n",
              "\n",
              "    [theme=dark] .colab-df-convert:hover {\n",
              "      background-color: #434B5C;\n",
              "      box-shadow: 0px 1px 3px 1px rgba(0, 0, 0, 0.15);\n",
              "      filter: drop-shadow(0px 1px 2px rgba(0, 0, 0, 0.3));\n",
              "      fill: #FFFFFF;\n",
              "    }\n",
              "  </style>\n",
              "\n",
              "      <script>\n",
              "        const buttonEl =\n",
              "          document.querySelector('#df-5cc71efc-e7d4-48a2-91c7-6278eb3f6e62 button.colab-df-convert');\n",
              "        buttonEl.style.display =\n",
              "          google.colab.kernel.accessAllowed ? 'block' : 'none';\n",
              "\n",
              "        async function convertToInteractive(key) {\n",
              "          const element = document.querySelector('#df-5cc71efc-e7d4-48a2-91c7-6278eb3f6e62');\n",
              "          const dataTable =\n",
              "            await google.colab.kernel.invokeFunction('convertToInteractive',\n",
              "                                                     [key], {});\n",
              "          if (!dataTable) return;\n",
              "\n",
              "          const docLinkHtml = 'Like what you see? Visit the ' +\n",
              "            '<a target=\"_blank\" href=https://colab.research.google.com/notebooks/data_table.ipynb>data table notebook</a>'\n",
              "            + ' to learn more about interactive tables.';\n",
              "          element.innerHTML = '';\n",
              "          dataTable['output_type'] = 'display_data';\n",
              "          await google.colab.output.renderOutput(dataTable, element);\n",
              "          const docLink = document.createElement('div');\n",
              "          docLink.innerHTML = docLinkHtml;\n",
              "          element.appendChild(docLink);\n",
              "        }\n",
              "      </script>\n",
              "    </div>\n",
              "  </div>\n",
              "  "
            ]
          },
          "metadata": {},
          "execution_count": 5
        }
      ]
    },
    {
      "cell_type": "markdown",
      "source": [
        "データの読み込み\n",
        "\n",
        "id列を追加する方法2"
      ],
      "metadata": {
        "id": "QlIH8pT8N6EF"
      }
    },
    {
      "cell_type": "code",
      "metadata": {
        "id": "YlZSgIbdHo-5",
        "colab": {
          "base_uri": "https://localhost:8080/",
          "height": 206
        },
        "outputId": "bcbe256e-3dcc-41d9-9c62-b01854663170"
      },
      "source": [
        "df = pd.read_table('./bank-full.csv', delimiter=';')\n",
        "ser = pd.Series(pd.RangeIndex(len(df)), name='id')\n",
        "df = pd.concat(\n",
        "    [df, ser],\n",
        "    axis=1)\n",
        "df.head(5)"
      ],
      "execution_count": 6,
      "outputs": [
        {
          "output_type": "execute_result",
          "data": {
            "text/plain": [
              "   age           job  marital  education default  balance housing loan  \\\n",
              "0   58    management  married   tertiary      no     2143     yes   no   \n",
              "1   44    technician   single  secondary      no       29     yes   no   \n",
              "2   33  entrepreneur  married  secondary      no        2     yes  yes   \n",
              "3   47   blue-collar  married    unknown      no     1506     yes   no   \n",
              "4   33       unknown   single    unknown      no        1      no   no   \n",
              "\n",
              "   contact  day month  duration  campaign  pdays  previous poutcome   y  id  \n",
              "0  unknown    5   may       261         1     -1         0  unknown  no   0  \n",
              "1  unknown    5   may       151         1     -1         0  unknown  no   1  \n",
              "2  unknown    5   may        76         1     -1         0  unknown  no   2  \n",
              "3  unknown    5   may        92         1     -1         0  unknown  no   3  \n",
              "4  unknown    5   may       198         1     -1         0  unknown  no   4  "
            ],
            "text/html": [
              "\n",
              "  <div id=\"df-667ef35d-75c3-4f92-ac67-c5d1a902158f\">\n",
              "    <div class=\"colab-df-container\">\n",
              "      <div>\n",
              "<style scoped>\n",
              "    .dataframe tbody tr th:only-of-type {\n",
              "        vertical-align: middle;\n",
              "    }\n",
              "\n",
              "    .dataframe tbody tr th {\n",
              "        vertical-align: top;\n",
              "    }\n",
              "\n",
              "    .dataframe thead th {\n",
              "        text-align: right;\n",
              "    }\n",
              "</style>\n",
              "<table border=\"1\" class=\"dataframe\">\n",
              "  <thead>\n",
              "    <tr style=\"text-align: right;\">\n",
              "      <th></th>\n",
              "      <th>age</th>\n",
              "      <th>job</th>\n",
              "      <th>marital</th>\n",
              "      <th>education</th>\n",
              "      <th>default</th>\n",
              "      <th>balance</th>\n",
              "      <th>housing</th>\n",
              "      <th>loan</th>\n",
              "      <th>contact</th>\n",
              "      <th>day</th>\n",
              "      <th>month</th>\n",
              "      <th>duration</th>\n",
              "      <th>campaign</th>\n",
              "      <th>pdays</th>\n",
              "      <th>previous</th>\n",
              "      <th>poutcome</th>\n",
              "      <th>y</th>\n",
              "      <th>id</th>\n",
              "    </tr>\n",
              "  </thead>\n",
              "  <tbody>\n",
              "    <tr>\n",
              "      <th>0</th>\n",
              "      <td>58</td>\n",
              "      <td>management</td>\n",
              "      <td>married</td>\n",
              "      <td>tertiary</td>\n",
              "      <td>no</td>\n",
              "      <td>2143</td>\n",
              "      <td>yes</td>\n",
              "      <td>no</td>\n",
              "      <td>unknown</td>\n",
              "      <td>5</td>\n",
              "      <td>may</td>\n",
              "      <td>261</td>\n",
              "      <td>1</td>\n",
              "      <td>-1</td>\n",
              "      <td>0</td>\n",
              "      <td>unknown</td>\n",
              "      <td>no</td>\n",
              "      <td>0</td>\n",
              "    </tr>\n",
              "    <tr>\n",
              "      <th>1</th>\n",
              "      <td>44</td>\n",
              "      <td>technician</td>\n",
              "      <td>single</td>\n",
              "      <td>secondary</td>\n",
              "      <td>no</td>\n",
              "      <td>29</td>\n",
              "      <td>yes</td>\n",
              "      <td>no</td>\n",
              "      <td>unknown</td>\n",
              "      <td>5</td>\n",
              "      <td>may</td>\n",
              "      <td>151</td>\n",
              "      <td>1</td>\n",
              "      <td>-1</td>\n",
              "      <td>0</td>\n",
              "      <td>unknown</td>\n",
              "      <td>no</td>\n",
              "      <td>1</td>\n",
              "    </tr>\n",
              "    <tr>\n",
              "      <th>2</th>\n",
              "      <td>33</td>\n",
              "      <td>entrepreneur</td>\n",
              "      <td>married</td>\n",
              "      <td>secondary</td>\n",
              "      <td>no</td>\n",
              "      <td>2</td>\n",
              "      <td>yes</td>\n",
              "      <td>yes</td>\n",
              "      <td>unknown</td>\n",
              "      <td>5</td>\n",
              "      <td>may</td>\n",
              "      <td>76</td>\n",
              "      <td>1</td>\n",
              "      <td>-1</td>\n",
              "      <td>0</td>\n",
              "      <td>unknown</td>\n",
              "      <td>no</td>\n",
              "      <td>2</td>\n",
              "    </tr>\n",
              "    <tr>\n",
              "      <th>3</th>\n",
              "      <td>47</td>\n",
              "      <td>blue-collar</td>\n",
              "      <td>married</td>\n",
              "      <td>unknown</td>\n",
              "      <td>no</td>\n",
              "      <td>1506</td>\n",
              "      <td>yes</td>\n",
              "      <td>no</td>\n",
              "      <td>unknown</td>\n",
              "      <td>5</td>\n",
              "      <td>may</td>\n",
              "      <td>92</td>\n",
              "      <td>1</td>\n",
              "      <td>-1</td>\n",
              "      <td>0</td>\n",
              "      <td>unknown</td>\n",
              "      <td>no</td>\n",
              "      <td>3</td>\n",
              "    </tr>\n",
              "    <tr>\n",
              "      <th>4</th>\n",
              "      <td>33</td>\n",
              "      <td>unknown</td>\n",
              "      <td>single</td>\n",
              "      <td>unknown</td>\n",
              "      <td>no</td>\n",
              "      <td>1</td>\n",
              "      <td>no</td>\n",
              "      <td>no</td>\n",
              "      <td>unknown</td>\n",
              "      <td>5</td>\n",
              "      <td>may</td>\n",
              "      <td>198</td>\n",
              "      <td>1</td>\n",
              "      <td>-1</td>\n",
              "      <td>0</td>\n",
              "      <td>unknown</td>\n",
              "      <td>no</td>\n",
              "      <td>4</td>\n",
              "    </tr>\n",
              "  </tbody>\n",
              "</table>\n",
              "</div>\n",
              "      <button class=\"colab-df-convert\" onclick=\"convertToInteractive('df-667ef35d-75c3-4f92-ac67-c5d1a902158f')\"\n",
              "              title=\"Convert this dataframe to an interactive table.\"\n",
              "              style=\"display:none;\">\n",
              "        \n",
              "  <svg xmlns=\"http://www.w3.org/2000/svg\" height=\"24px\"viewBox=\"0 0 24 24\"\n",
              "       width=\"24px\">\n",
              "    <path d=\"M0 0h24v24H0V0z\" fill=\"none\"/>\n",
              "    <path d=\"M18.56 5.44l.94 2.06.94-2.06 2.06-.94-2.06-.94-.94-2.06-.94 2.06-2.06.94zm-11 1L8.5 8.5l.94-2.06 2.06-.94-2.06-.94L8.5 2.5l-.94 2.06-2.06.94zm10 10l.94 2.06.94-2.06 2.06-.94-2.06-.94-.94-2.06-.94 2.06-2.06.94z\"/><path d=\"M17.41 7.96l-1.37-1.37c-.4-.4-.92-.59-1.43-.59-.52 0-1.04.2-1.43.59L10.3 9.45l-7.72 7.72c-.78.78-.78 2.05 0 2.83L4 21.41c.39.39.9.59 1.41.59.51 0 1.02-.2 1.41-.59l7.78-7.78 2.81-2.81c.8-.78.8-2.07 0-2.86zM5.41 20L4 18.59l7.72-7.72 1.47 1.35L5.41 20z\"/>\n",
              "  </svg>\n",
              "      </button>\n",
              "      \n",
              "  <style>\n",
              "    .colab-df-container {\n",
              "      display:flex;\n",
              "      flex-wrap:wrap;\n",
              "      gap: 12px;\n",
              "    }\n",
              "\n",
              "    .colab-df-convert {\n",
              "      background-color: #E8F0FE;\n",
              "      border: none;\n",
              "      border-radius: 50%;\n",
              "      cursor: pointer;\n",
              "      display: none;\n",
              "      fill: #1967D2;\n",
              "      height: 32px;\n",
              "      padding: 0 0 0 0;\n",
              "      width: 32px;\n",
              "    }\n",
              "\n",
              "    .colab-df-convert:hover {\n",
              "      background-color: #E2EBFA;\n",
              "      box-shadow: 0px 1px 2px rgba(60, 64, 67, 0.3), 0px 1px 3px 1px rgba(60, 64, 67, 0.15);\n",
              "      fill: #174EA6;\n",
              "    }\n",
              "\n",
              "    [theme=dark] .colab-df-convert {\n",
              "      background-color: #3B4455;\n",
              "      fill: #D2E3FC;\n",
              "    }\n",
              "\n",
              "    [theme=dark] .colab-df-convert:hover {\n",
              "      background-color: #434B5C;\n",
              "      box-shadow: 0px 1px 3px 1px rgba(0, 0, 0, 0.15);\n",
              "      filter: drop-shadow(0px 1px 2px rgba(0, 0, 0, 0.3));\n",
              "      fill: #FFFFFF;\n",
              "    }\n",
              "  </style>\n",
              "\n",
              "      <script>\n",
              "        const buttonEl =\n",
              "          document.querySelector('#df-667ef35d-75c3-4f92-ac67-c5d1a902158f button.colab-df-convert');\n",
              "        buttonEl.style.display =\n",
              "          google.colab.kernel.accessAllowed ? 'block' : 'none';\n",
              "\n",
              "        async function convertToInteractive(key) {\n",
              "          const element = document.querySelector('#df-667ef35d-75c3-4f92-ac67-c5d1a902158f');\n",
              "          const dataTable =\n",
              "            await google.colab.kernel.invokeFunction('convertToInteractive',\n",
              "                                                     [key], {});\n",
              "          if (!dataTable) return;\n",
              "\n",
              "          const docLinkHtml = 'Like what you see? Visit the ' +\n",
              "            '<a target=\"_blank\" href=https://colab.research.google.com/notebooks/data_table.ipynb>data table notebook</a>'\n",
              "            + ' to learn more about interactive tables.';\n",
              "          element.innerHTML = '';\n",
              "          dataTable['output_type'] = 'display_data';\n",
              "          await google.colab.output.renderOutput(dataTable, element);\n",
              "          const docLink = document.createElement('div');\n",
              "          docLink.innerHTML = docLinkHtml;\n",
              "          element.appendChild(docLink);\n",
              "        }\n",
              "      </script>\n",
              "    </div>\n",
              "  </div>\n",
              "  "
            ]
          },
          "metadata": {},
          "execution_count": 6
        }
      ]
    },
    {
      "cell_type": "markdown",
      "source": [
        "変数と正解ラベルにデータを分割"
      ],
      "metadata": {
        "id": "ybKAyFVpqzhd"
      }
    },
    {
      "cell_type": "code",
      "metadata": {
        "id": "Jheivv176Jwx"
      },
      "source": [
        "df_bank = df[[\n",
        "             'id', 'age', 'job', 'marital', 'education',\n",
        "             'default', 'balance', 'housing', 'loan', 'contact',\n",
        "             'day', 'month', 'duration', 'campaign', 'pdays',\n",
        "             'previous', 'poutcome'\n",
        "             ]]\n",
        "df_label = df[['id', 'y']]"
      ],
      "execution_count": 7,
      "outputs": []
    },
    {
      "cell_type": "markdown",
      "source": [
        "データフレームの形状確認"
      ],
      "metadata": {
        "id": "a0-H0VfarBte"
      }
    },
    {
      "cell_type": "code",
      "metadata": {
        "colab": {
          "base_uri": "https://localhost:8080/"
        },
        "id": "xBKfGWQHpLjj",
        "outputId": "4ee682d8-e31e-48cf-8694-87844a4ca78b"
      },
      "source": [
        "print(df_bank.shape)\n",
        "print(df_label.shape)"
      ],
      "execution_count": 8,
      "outputs": [
        {
          "output_type": "stream",
          "name": "stdout",
          "text": [
            "(45211, 17)\n",
            "(45211, 2)\n"
          ]
        }
      ]
    },
    {
      "cell_type": "markdown",
      "source": [
        "with句を使ったpandasのオプション指定。resetの必要なし"
      ],
      "metadata": {
        "id": "tysFW7fpjEii"
      }
    },
    {
      "cell_type": "code",
      "metadata": {
        "colab": {
          "base_uri": "https://localhost:8080/"
        },
        "id": "R94MAGA9nkWK",
        "outputId": "95b1eddc-6475-4454-dc05-58cb43e3f11b"
      },
      "source": [
        "with pd.option_context('display.max_columns', 20, 'display.width', 200,):\n",
        "    print(df_bank.sample(n=5, random_state=777))\n",
        "    print(df_label.sample(n=5, random_state=777))\n",
        "# pd.set_option('display.max_columns', 20, 'display.width', 200,)\n",
        "# df_bank.sample(n=10, random_state=777)\n",
        "# df_label.sample(n=10, random_state=777)\n",
        "# pd.reset_option('display.max_columns', 'display.width')"
      ],
      "execution_count": 9,
      "outputs": [
        {
          "output_type": "stream",
          "name": "stdout",
          "text": [
            "          id  age           job  marital  education default  balance housing loan   contact  day month  duration  campaign  pdays  previous poutcome\n",
            "32881  32881   30  entrepreneur  married    primary      no      495     yes   no  cellular   17   apr       384         2     -1         0  unknown\n",
            "43750  43750   53    technician  married  secondary      no      195     yes   no  cellular   19   may       472         1     90         6  success\n",
            "10167  10167   45    management  married   tertiary      no     1866      no   no   unknown   11   jun       116         7     -1         0  unknown\n",
            "26702  26702   47   blue-collar  married  secondary      no     3070      no   no  cellular   20   nov       144         2     -1         0  unknown\n",
            "14875  14875   39   blue-collar  married    primary      no       50      no   no  cellular   16   jul       147         2     -1         0  unknown\n",
            "          id    y\n",
            "32881  32881   no\n",
            "43750  43750  yes\n",
            "10167  10167   no\n",
            "26702  26702   no\n",
            "14875  14875   no\n"
          ]
        }
      ]
    },
    {
      "cell_type": "markdown",
      "source": [
        "with句を使わなかった場合"
      ],
      "metadata": {
        "id": "kV0kTZP8rTkN"
      }
    },
    {
      "cell_type": "code",
      "metadata": {
        "colab": {
          "base_uri": "https://localhost:8080/"
        },
        "id": "nsSvD0-Mtnzj",
        "outputId": "358d59fe-be0e-4efe-cbdc-b07dabcfd5ec"
      },
      "source": [
        "pd.set_option('display.max_columns', 20, 'display.width', 200)\n",
        "print(df_bank.sample(n=5, random_state=777))\n",
        "print(df_label.sample(n=5, random_state=777))\n",
        "pd.reset_option('display.max_columns', 'display.width')\n",
        "# pd.set_option('display.max_columns', 20, 'display.width', 200,)\n",
        "# df_bank.sample(n=10, random_state=777)\n",
        "# df_label.sample(n=10, random_state=777)\n",
        "pd.reset_option('display.max_columns', 'display.width')"
      ],
      "execution_count": 10,
      "outputs": [
        {
          "output_type": "stream",
          "name": "stdout",
          "text": [
            "          id  age           job  marital  education default  balance housing loan   contact  day month  duration  campaign  pdays  previous poutcome\n",
            "32881  32881   30  entrepreneur  married    primary      no      495     yes   no  cellular   17   apr       384         2     -1         0  unknown\n",
            "43750  43750   53    technician  married  secondary      no      195     yes   no  cellular   19   may       472         1     90         6  success\n",
            "10167  10167   45    management  married   tertiary      no     1866      no   no   unknown   11   jun       116         7     -1         0  unknown\n",
            "26702  26702   47   blue-collar  married  secondary      no     3070      no   no  cellular   20   nov       144         2     -1         0  unknown\n",
            "14875  14875   39   blue-collar  married    primary      no       50      no   no  cellular   16   jul       147         2     -1         0  unknown\n",
            "          id    y\n",
            "32881  32881   no\n",
            "43750  43750  yes\n",
            "10167  10167   no\n",
            "26702  26702   no\n",
            "14875  14875   no\n"
          ]
        }
      ]
    },
    {
      "cell_type": "markdown",
      "source": [
        "## レシピ4.2　過去データの整理"
      ],
      "metadata": {
        "id": "vzKkclbSre5k"
      }
    },
    {
      "cell_type": "markdown",
      "source": [
        "データの確認"
      ],
      "metadata": {
        "id": "nweJFEqyrZYt"
      }
    },
    {
      "cell_type": "code",
      "metadata": {
        "id": "m1yQt7hIQq24",
        "colab": {
          "base_uri": "https://localhost:8080/"
        },
        "outputId": "8f56f403-d350-449b-d3fe-ad3ab8d26959"
      },
      "source": [
        "print(df_bank.info())"
      ],
      "execution_count": 11,
      "outputs": [
        {
          "output_type": "stream",
          "name": "stdout",
          "text": [
            "<class 'pandas.core.frame.DataFrame'>\n",
            "RangeIndex: 45211 entries, 0 to 45210\n",
            "Data columns (total 17 columns):\n",
            " #   Column     Non-Null Count  Dtype \n",
            "---  ------     --------------  ----- \n",
            " 0   id         45211 non-null  int64 \n",
            " 1   age        45211 non-null  int64 \n",
            " 2   job        45211 non-null  object\n",
            " 3   marital    45211 non-null  object\n",
            " 4   education  45211 non-null  object\n",
            " 5   default    45211 non-null  object\n",
            " 6   balance    45211 non-null  int64 \n",
            " 7   housing    45211 non-null  object\n",
            " 8   loan       45211 non-null  object\n",
            " 9   contact    45211 non-null  object\n",
            " 10  day        45211 non-null  int64 \n",
            " 11  month      45211 non-null  object\n",
            " 12  duration   45211 non-null  int64 \n",
            " 13  campaign   45211 non-null  int64 \n",
            " 14  pdays      45211 non-null  int64 \n",
            " 15  previous   45211 non-null  int64 \n",
            " 16  poutcome   45211 non-null  object\n",
            "dtypes: int64(8), object(9)\n",
            "memory usage: 5.9+ MB\n",
            "None\n"
          ]
        }
      ]
    },
    {
      "cell_type": "markdown",
      "source": [
        "数値変数の確認"
      ],
      "metadata": {
        "id": "DUly3kc2rm7z"
      }
    },
    {
      "cell_type": "code",
      "metadata": {
        "id": "6MO5TTZBJ9C6",
        "colab": {
          "base_uri": "https://localhost:8080/"
        },
        "outputId": "65cdf22d-5bca-4c5c-9719-20cf7f2463ae"
      },
      "source": [
        "df_bank_qual = df_bank[[\n",
        "                        'age', 'balance', 'day', 'duration', 'campaign', 'pdays', 'previous'\n",
        "                        ]]\n",
        "with pd.option_context('precision', 2):\n",
        "    print(df_bank_qual.describe())\n",
        "# pd.set_option('precision', 2)\n",
        "# df_bank_qual.describe()\n",
        "# pd.reset_option('display.precision')"
      ],
      "execution_count": 12,
      "outputs": [
        {
          "output_type": "stream",
          "name": "stdout",
          "text": [
            "            age    balance       day  duration  campaign     pdays  previous\n",
            "count  45211.00   45211.00  45211.00  45211.00  45211.00  45211.00  45211.00\n",
            "mean      40.94    1362.27     15.81    258.16      2.76     40.20      0.58\n",
            "std       10.62    3044.77      8.32    257.53      3.10    100.13      2.30\n",
            "min       18.00   -8019.00      1.00      0.00      1.00     -1.00      0.00\n",
            "25%       33.00      72.00      8.00    103.00      1.00     -1.00      0.00\n",
            "50%       39.00     448.00     16.00    180.00      2.00     -1.00      0.00\n",
            "75%       48.00    1428.00     21.00    319.00      3.00     -1.00      0.00\n",
            "max       95.00  102127.00     31.00   4918.00     63.00    871.00    275.00\n"
          ]
        }
      ]
    },
    {
      "cell_type": "markdown",
      "source": [
        "カテゴリ変数の確認\n",
        "- option_context引数 precision：小数点以下桁数\n",
        "- freq：最頻出値の個数"
      ],
      "metadata": {
        "id": "KWn5pR_PywAB"
      }
    },
    {
      "cell_type": "code",
      "metadata": {
        "id": "kmoDLY0oCd7H",
        "colab": {
          "base_uri": "https://localhost:8080/"
        },
        "outputId": "b3d2cfef-ad22-4039-e8d3-9cfb3b5dcfde"
      },
      "source": [
        "df_bank_quan = df_bank[[\n",
        "                        'job', 'marital', 'education', 'default', 'housing', 'loan', 'contact', 'month', 'poutcome'\n",
        "                        ]]\n",
        "with pd.option_context('precision', 2):\n",
        "    print(df_bank_quan.describe())\n",
        "# pd.set_option('precision', 2)\n",
        "# df_bank_quan.describe()\n",
        "# pd.reset_option('display.precision')"
      ],
      "execution_count": 13,
      "outputs": [
        {
          "output_type": "stream",
          "name": "stdout",
          "text": [
            "                job  marital  education default housing   loan   contact  month poutcome\n",
            "count         45211    45211      45211   45211   45211  45211     45211  45211    45211\n",
            "unique           12        3          4       2       2      2         3     12        4\n",
            "top     blue-collar  married  secondary      no     yes     no  cellular    may  unknown\n",
            "freq           9732    27214      23202   44396   25130  37967     29285  13766    36959\n"
          ]
        }
      ]
    },
    {
      "cell_type": "markdown",
      "source": [
        "数値変数のヒストグラム出力"
      ],
      "metadata": {
        "id": "kuVMV2KIEiDi"
      }
    },
    {
      "cell_type": "code",
      "metadata": {
        "id": "R9oMVbJcbVZe",
        "colab": {
          "base_uri": "https://localhost:8080/",
          "height": 1000
        },
        "outputId": "f90ef9c6-8521-4ab2-8221-37c1280fe735"
      },
      "source": [
        "import matplotlib.pyplot as plt\n",
        "import seaborn as sns\n",
        "\n",
        "i=3\n",
        "j=3\n",
        "fig, axes = plt.subplots(nrows=i, ncols=j, figsize=(20, 16))\n",
        "\n",
        "n = len(df_bank_qual.columns)\n",
        "for k in range(i*j):\n",
        "    ax=axes[k//3, k%3]\n",
        "    if k <= n-1:\n",
        "        sns.histplot(data=df_bank_qual, x=df_bank_qual.columns[k], bins=16, kde=False, ax=ax)\n",
        "        ax.set_title(df_bank_qual.columns[k])\n",
        "    else:\n",
        "        ax.axis('off')\n",
        "plt.tight_layout()\n",
        "plt.show()"
      ],
      "execution_count": 14,
      "outputs": [
        {
          "output_type": "display_data",
          "data": {
            "text/plain": [
              "<Figure size 1440x1152 with 9 Axes>"
            ],
            "image/png": "[encoded data removed]"
          },
          "metadata": {
            "needs_background": "light"
          }
        }
      ]
    },
    {
      "cell_type": "markdown",
      "source": [
        "数値変数のヒストグラム出力（対数軸）"
      ],
      "metadata": {
        "id": "vI5BVz8rEpUg"
      }
    },
    {
      "cell_type": "code",
      "metadata": {
        "colab": {
          "base_uri": "https://localhost:8080/",
          "height": 1000
        },
        "id": "gIDyqF00Izji",
        "outputId": "f8a72233-e7ce-4047-cdb4-814986c471a8"
      },
      "source": [
        "i=3\n",
        "j=3\n",
        "fig, axes = plt.subplots(nrows=i, ncols=j, figsize=(20, 16))\n",
        "\n",
        "n = len(df_bank_qual.columns)\n",
        "for k in range(i*j):\n",
        "    ax=axes[k//3, k%3]\n",
        "    if k <= n-1:\n",
        "        sns.histplot(data=df_bank_qual, x=df_bank_qual.columns[k], bins=16, kde=False, ax=ax)\n",
        "        ax.set_yscale('log')\n",
        "        ax.set_title(df_bank_qual.columns[k])\n",
        "    else:\n",
        "        ax.axis('off')\n",
        "plt.tight_layout()\n",
        "plt.show()"
      ],
      "execution_count": 15,
      "outputs": [
        {
          "output_type": "display_data",
          "data": {
            "text/plain": [
              "<Figure size 1440x1152 with 9 Axes>"
            ],
            "image/png": "[encoded data removed]"
          },
          "metadata": {
            "needs_background": "light"
          }
        }
      ]
    },
    {
      "cell_type": "markdown",
      "source": [
        "カテゴリ変数のヒストグラム出力"
      ],
      "metadata": {
        "id": "o5TgP7u5Exb7"
      }
    },
    {
      "cell_type": "code",
      "metadata": {
        "id": "OYl2HWeFcnyq",
        "colab": {
          "base_uri": "https://localhost:8080/",
          "height": 1000
        },
        "outputId": "81d5d8b2-cbe8-47ae-ff8d-4f26616fa635"
      },
      "source": [
        "i=3\n",
        "j=3\n",
        "fig, axes = plt.subplots(nrows=i, ncols=j, figsize=(20, 16))\n",
        "\n",
        "n = len(df_bank_quan.columns)\n",
        "for k in range(i*j):\n",
        "    ax=axes[k//3, k%3]\n",
        "    if k <= n-1:\n",
        "        sns.histplot(data=df_bank_quan, x=df_bank_quan.columns[k], kde=False, ax=ax)\n",
        "        ax.set_title(df_bank_quan.columns[k])\n",
        "        ax.set_xticklabels(pd.unique(df_bank_quan[df_bank_quan.columns[k]]), rotation=45)\n",
        "    else:\n",
        "        ax.axis('off')\n",
        "plt.tight_layout()\n",
        "plt.show()"
      ],
      "execution_count": 16,
      "outputs": [
        {
          "output_type": "display_data",
          "data": {
            "text/plain": [
              "<Figure size 1440x1152 with 9 Axes>"
            ],
            "image/png": "[encoded data removed]"
          },
          "metadata": {
            "needs_background": "light"
          }
        }
      ]
    },
    {
      "cell_type": "markdown",
      "source": [
        "カテゴリ変数のヒストグラム出力（対数軸）"
      ],
      "metadata": {
        "id": "HLpIvAEJE4Xi"
      }
    },
    {
      "cell_type": "code",
      "metadata": {
        "colab": {
          "base_uri": "https://localhost:8080/",
          "height": 1000
        },
        "id": "jfsgwHbMdb68",
        "outputId": "6fc5ecce-b650-4420-e32a-61ae200f9d99"
      },
      "source": [
        "i=3\n",
        "j=3\n",
        "fig, axes = plt.subplots(nrows=i, ncols=j, figsize=(20, 16))\n",
        "\n",
        "n = len(df_bank_quan.columns)\n",
        "for k in range(i*j):\n",
        "    ax=axes[k//3, k%3]\n",
        "    if k <= n-1:\n",
        "        sns.histplot(data=df_bank_quan, x=df_bank_quan.columns[k], kde=False, ax=ax)\n",
        "        ax.set_yscale('log')\n",
        "        ax.set_title(df_bank_quan.columns[k])\n",
        "        ax.set_xticklabels(pd.unique(df_bank_quan[df_bank_quan.columns[k]]), rotation=45)\n",
        "    else:\n",
        "        ax.axis('off')\n",
        "plt.tight_layout()\n",
        "plt.show()"
      ],
      "execution_count": 17,
      "outputs": [
        {
          "output_type": "display_data",
          "data": {
            "text/plain": [
              "<Figure size 1440x1152 with 9 Axes>"
            ],
            "image/png": "[encoded data removed]"
          },
          "metadata": {
            "needs_background": "light"
          }
        }
      ]
    },
    {
      "cell_type": "markdown",
      "source": [
        "##レシピ4.3　反応者／非反応者のクロス集計"
      ],
      "metadata": {
        "id": "v-HqpWPksfrw"
      }
    },
    {
      "cell_type": "markdown",
      "source": [
        "テーブルの作成"
      ],
      "metadata": {
        "id": "PVUt-XDgstk8"
      }
    },
    {
      "cell_type": "code",
      "metadata": {
        "id": "SRC4riu-bc8i",
        "colab": {
          "base_uri": "https://localhost:8080/"
        },
        "outputId": "b8054003-efba-4654-a8a5-a327705d9bbe"
      },
      "source": [
        "df_bank_cross = pd.merge(df_bank, df_label, on='id')\n",
        "print(df_bank_cross.sample(n=5, random_state=777))\n",
        "# df_bank_temp.sample(n=5, random_state=777)"
      ],
      "execution_count": 18,
      "outputs": [
        {
          "output_type": "stream",
          "name": "stdout",
          "text": [
            "          id  age           job  marital  education default  balance housing loan   contact  day month  duration  campaign  pdays  previous poutcome    y\n",
            "32881  32881   30  entrepreneur  married    primary      no      495     yes   no  cellular   17   apr       384         2     -1         0  unknown   no\n",
            "43750  43750   53    technician  married  secondary      no      195     yes   no  cellular   19   may       472         1     90         6  success  yes\n",
            "10167  10167   45    management  married   tertiary      no     1866      no   no   unknown   11   jun       116         7     -1         0  unknown   no\n",
            "26702  26702   47   blue-collar  married  secondary      no     3070      no   no  cellular   20   nov       144         2     -1         0  unknown   no\n",
            "14875  14875   39   blue-collar  married    primary      no       50      no   no  cellular   16   jul       147         2     -1         0  unknown   no\n"
          ]
        }
      ]
    },
    {
      "cell_type": "markdown",
      "source": [
        "クロス集計を使った比較"
      ],
      "metadata": {
        "id": "1VSwdFF2F1hq"
      }
    },
    {
      "cell_type": "code",
      "metadata": {
        "colab": {
          "base_uri": "https://localhost:8080/"
        },
        "id": "GD4UPb0oiBCR",
        "outputId": "fe5678bc-e803-47ea-ce15-af8a4033d84e"
      },
      "source": [
        "print(pd.crosstab(df_bank_cross['job'], df_bank_cross['y'], normalize='columns')) # 列方向に正規化\n",
        "print(pd.crosstab(df_bank_cross['job'], df_bank_cross['y'], normalize='index'))   # 行方向に正規化"
      ],
      "execution_count": 20,
      "outputs": [
        {
          "output_type": "stream",
          "name": "stdout",
          "text": [
            "y                    no       yes\n",
            "job                              \n",
            "admin.         0.113722  0.119304\n",
            "blue-collar    0.226041  0.133863\n",
            "entrepreneur   0.034167  0.023256\n",
            "housemaid      0.028330  0.020609\n",
            "management     0.204323  0.245982\n",
            "retired        0.043785  0.097561\n",
            "self-employed  0.034868  0.035356\n",
            "services       0.094810  0.069767\n",
            "student        0.016758  0.050860\n",
            "technician     0.169255  0.158820\n",
            "unemployed     0.027579  0.038192\n",
            "unknown        0.006362  0.006428\n",
            "y                    no       yes\n",
            "job                              \n",
            "admin.         0.877973  0.122027\n",
            "blue-collar    0.927250  0.072750\n",
            "entrepreneur   0.917283  0.082717\n",
            "housemaid      0.912097  0.087903\n",
            "management     0.862444  0.137556\n",
            "retired        0.772085  0.227915\n",
            "self-employed  0.881571  0.118429\n",
            "services       0.911170  0.088830\n",
            "student        0.713220  0.286780\n",
            "technician     0.889430  0.110570\n",
            "unemployed     0.844973  0.155027\n",
            "unknown        0.881944  0.118056\n"
          ]
        }
      ]
    },
    {
      "cell_type": "code",
      "metadata": {
        "colab": {
          "base_uri": "https://localhost:8080/",
          "height": 206
        },
        "id": "NkNnTo7UitbT",
        "outputId": "7201ec2a-ab8e-47db-e74a-3ffd5275e112"
      },
      "source": [
        "df_bank_cross.head()"
      ],
      "execution_count": 21,
      "outputs": [
        {
          "output_type": "execute_result",
          "data": {
            "text/plain": [
              "   id  age           job  marital  education default  balance housing loan  contact  day month  duration  campaign  pdays  previous poutcome   y\n",
              "0   0   58    management  married   tertiary      no     2143     yes   no  unknown    5   may       261         1     -1         0  unknown  no\n",
              "1   1   44    technician   single  secondary      no       29     yes   no  unknown    5   may       151         1     -1         0  unknown  no\n",
              "2   2   33  entrepreneur  married  secondary      no        2     yes  yes  unknown    5   may        76         1     -1         0  unknown  no\n",
              "3   3   47   blue-collar  married    unknown      no     1506     yes   no  unknown    5   may        92         1     -1         0  unknown  no\n",
              "4   4   33       unknown   single    unknown      no        1      no   no  unknown    5   may       198         1     -1         0  unknown  no"
            ],
            "text/html": [
              "\n",
              "  <div id=\"df-e3baa3b0-e25b-4b03-8d33-da2d8b5ec5d8\">\n",
              "    <div class=\"colab-df-container\">\n",
              "      <div>\n",
              "<style scoped>\n",
              "    .dataframe tbody tr th:only-of-type {\n",
              "        vertical-align: middle;\n",
              "    }\n",
              "\n",
              "    .dataframe tbody tr th {\n",
              "        vertical-align: top;\n",
              "    }\n",
              "\n",
              "    .dataframe thead th {\n",
              "        text-align: right;\n",
              "    }\n",
              "</style>\n",
              "<table border=\"1\" class=\"dataframe\">\n",
              "  <thead>\n",
              "    <tr style=\"text-align: right;\">\n",
              "      <th></th>\n",
              "      <th>id</th>\n",
              "      <th>age</th>\n",
              "      <th>job</th>\n",
              "      <th>marital</th>\n",
              "      <th>education</th>\n",
              "      <th>default</th>\n",
              "      <th>balance</th>\n",
              "      <th>housing</th>\n",
              "      <th>loan</th>\n",
              "      <th>contact</th>\n",
              "      <th>day</th>\n",
              "      <th>month</th>\n",
              "      <th>duration</th>\n",
              "      <th>campaign</th>\n",
              "      <th>pdays</th>\n",
              "      <th>previous</th>\n",
              "      <th>poutcome</th>\n",
              "      <th>y</th>\n",
              "    </tr>\n",
              "  </thead>\n",
              "  <tbody>\n",
              "    <tr>\n",
              "      <th>0</th>\n",
              "      <td>0</td>\n",
              "      <td>58</td>\n",
              "      <td>management</td>\n",
              "      <td>married</td>\n",
              "      <td>tertiary</td>\n",
              "      <td>no</td>\n",
              "      <td>2143</td>\n",
              "      <td>yes</td>\n",
              "      <td>no</td>\n",
              "      <td>unknown</td>\n",
              "      <td>5</td>\n",
              "      <td>may</td>\n",
              "      <td>261</td>\n",
              "      <td>1</td>\n",
              "      <td>-1</td>\n",
              "      <td>0</td>\n",
              "      <td>unknown</td>\n",
              "      <td>no</td>\n",
              "    </tr>\n",
              "    <tr>\n",
              "      <th>1</th>\n",
              "      <td>1</td>\n",
              "      <td>44</td>\n",
              "      <td>technician</td>\n",
              "      <td>single</td>\n",
              "      <td>secondary</td>\n",
              "      <td>no</td>\n",
              "      <td>29</td>\n",
              "      <td>yes</td>\n",
              "      <td>no</td>\n",
              "      <td>unknown</td>\n",
              "      <td>5</td>\n",
              "      <td>may</td>\n",
              "      <td>151</td>\n",
              "      <td>1</td>\n",
              "      <td>-1</td>\n",
              "      <td>0</td>\n",
              "      <td>unknown</td>\n",
              "      <td>no</td>\n",
              "    </tr>\n",
              "    <tr>\n",
              "      <th>2</th>\n",
              "      <td>2</td>\n",
              "      <td>33</td>\n",
              "      <td>entrepreneur</td>\n",
              "      <td>married</td>\n",
              "      <td>secondary</td>\n",
              "      <td>no</td>\n",
              "      <td>2</td>\n",
              "      <td>yes</td>\n",
              "      <td>yes</td>\n",
              "      <td>unknown</td>\n",
              "      <td>5</td>\n",
              "      <td>may</td>\n",
              "      <td>76</td>\n",
              "      <td>1</td>\n",
              "      <td>-1</td>\n",
              "      <td>0</td>\n",
              "      <td>unknown</td>\n",
              "      <td>no</td>\n",
              "    </tr>\n",
              "    <tr>\n",
              "      <th>3</th>\n",
              "      <td>3</td>\n",
              "      <td>47</td>\n",
              "      <td>blue-collar</td>\n",
              "      <td>married</td>\n",
              "      <td>unknown</td>\n",
              "      <td>no</td>\n",
              "      <td>1506</td>\n",
              "      <td>yes</td>\n",
              "      <td>no</td>\n",
              "      <td>unknown</td>\n",
              "      <td>5</td>\n",
              "      <td>may</td>\n",
              "      <td>92</td>\n",
              "      <td>1</td>\n",
              "      <td>-1</td>\n",
              "      <td>0</td>\n",
              "      <td>unknown</td>\n",
              "      <td>no</td>\n",
              "    </tr>\n",
              "    <tr>\n",
              "      <th>4</th>\n",
              "      <td>4</td>\n",
              "      <td>33</td>\n",
              "      <td>unknown</td>\n",
              "      <td>single</td>\n",
              "      <td>unknown</td>\n",
              "      <td>no</td>\n",
              "      <td>1</td>\n",
              "      <td>no</td>\n",
              "      <td>no</td>\n",
              "      <td>unknown</td>\n",
              "      <td>5</td>\n",
              "      <td>may</td>\n",
              "      <td>198</td>\n",
              "      <td>1</td>\n",
              "      <td>-1</td>\n",
              "      <td>0</td>\n",
              "      <td>unknown</td>\n",
              "      <td>no</td>\n",
              "    </tr>\n",
              "  </tbody>\n",
              "</table>\n",
              "</div>\n",
              "      <button class=\"colab-df-convert\" onclick=\"convertToInteractive('df-e3baa3b0-e25b-4b03-8d33-da2d8b5ec5d8')\"\n",
              "              title=\"Convert this dataframe to an interactive table.\"\n",
              "              style=\"display:none;\">\n",
              "        \n",
              "  <svg xmlns=\"http://www.w3.org/2000/svg\" height=\"24px\"viewBox=\"0 0 24 24\"\n",
              "       width=\"24px\">\n",
              "    <path d=\"M0 0h24v24H0V0z\" fill=\"none\"/>\n",
              "    <path d=\"M18.56 5.44l.94 2.06.94-2.06 2.06-.94-2.06-.94-.94-2.06-.94 2.06-2.06.94zm-11 1L8.5 8.5l.94-2.06 2.06-.94-2.06-.94L8.5 2.5l-.94 2.06-2.06.94zm10 10l.94 2.06.94-2.06 2.06-.94-2.06-.94-.94-2.06-.94 2.06-2.06.94z\"/><path d=\"M17.41 7.96l-1.37-1.37c-.4-.4-.92-.59-1.43-.59-.52 0-1.04.2-1.43.59L10.3 9.45l-7.72 7.72c-.78.78-.78 2.05 0 2.83L4 21.41c.39.39.9.59 1.41.59.51 0 1.02-.2 1.41-.59l7.78-7.78 2.81-2.81c.8-.78.8-2.07 0-2.86zM5.41 20L4 18.59l7.72-7.72 1.47 1.35L5.41 20z\"/>\n",
              "  </svg>\n",
              "      </button>\n",
              "      \n",
              "  <style>\n",
              "    .colab-df-container {\n",
              "      display:flex;\n",
              "      flex-wrap:wrap;\n",
              "      gap: 12px;\n",
              "    }\n",
              "\n",
              "    .colab-df-convert {\n",
              "      background-color: #E8F0FE;\n",
              "      border: none;\n",
              "      border-radius: 50%;\n",
              "      cursor: pointer;\n",
              "      display: none;\n",
              "      fill: #1967D2;\n",
              "      height: 32px;\n",
              "      padding: 0 0 0 0;\n",
              "      width: 32px;\n",
              "    }\n",
              "\n",
              "    .colab-df-convert:hover {\n",
              "      background-color: #E2EBFA;\n",
              "      box-shadow: 0px 1px 2px rgba(60, 64, 67, 0.3), 0px 1px 3px 1px rgba(60, 64, 67, 0.15);\n",
              "      fill: #174EA6;\n",
              "    }\n",
              "\n",
              "    [theme=dark] .colab-df-convert {\n",
              "      background-color: #3B4455;\n",
              "      fill: #D2E3FC;\n",
              "    }\n",
              "\n",
              "    [theme=dark] .colab-df-convert:hover {\n",
              "      background-color: #434B5C;\n",
              "      box-shadow: 0px 1px 3px 1px rgba(0, 0, 0, 0.15);\n",
              "      filter: drop-shadow(0px 1px 2px rgba(0, 0, 0, 0.3));\n",
              "      fill: #FFFFFF;\n",
              "    }\n",
              "  </style>\n",
              "\n",
              "      <script>\n",
              "        const buttonEl =\n",
              "          document.querySelector('#df-e3baa3b0-e25b-4b03-8d33-da2d8b5ec5d8 button.colab-df-convert');\n",
              "        buttonEl.style.display =\n",
              "          google.colab.kernel.accessAllowed ? 'block' : 'none';\n",
              "\n",
              "        async function convertToInteractive(key) {\n",
              "          const element = document.querySelector('#df-e3baa3b0-e25b-4b03-8d33-da2d8b5ec5d8');\n",
              "          const dataTable =\n",
              "            await google.colab.kernel.invokeFunction('convertToInteractive',\n",
              "                                                     [key], {});\n",
              "          if (!dataTable) return;\n",
              "\n",
              "          const docLinkHtml = 'Like what you see? Visit the ' +\n",
              "            '<a target=\"_blank\" href=https://colab.research.google.com/notebooks/data_table.ipynb>data table notebook</a>'\n",
              "            + ' to learn more about interactive tables.';\n",
              "          element.innerHTML = '';\n",
              "          dataTable['output_type'] = 'display_data';\n",
              "          await google.colab.output.renderOutput(dataTable, element);\n",
              "          const docLink = document.createElement('div');\n",
              "          docLink.innerHTML = docLinkHtml;\n",
              "          element.appendChild(docLink);\n",
              "        }\n",
              "      </script>\n",
              "    </div>\n",
              "  </div>\n",
              "  "
            ]
          },
          "metadata": {},
          "execution_count": 21
        }
      ]
    },
    {
      "cell_type": "markdown",
      "source": [
        "クロス集計を使った比較　ヒートマップ"
      ],
      "metadata": {
        "id": "ke0gbfx8F63p"
      }
    },
    {
      "cell_type": "markdown",
      "source": [
        "列方向に正規化"
      ],
      "metadata": {
        "id": "BUGsLoses3ar"
      }
    },
    {
      "cell_type": "code",
      "metadata": {
        "id": "PYRiZJ5lq1Xp",
        "colab": {
          "base_uri": "https://localhost:8080/",
          "height": 729
        },
        "outputId": "1fcd96d7-8f97-4553-84c1-2de173b3dd20"
      },
      "source": [
        "i=2\n",
        "j=8\n",
        "fig, axes = plt.subplots(nrows=i, ncols=j, figsize=(20, 10))\n",
        "\n",
        "n = len(df_bank_cross.columns)\n",
        "for k in range(n-2):\n",
        "    ax=axes[k//j, k%j]\n",
        "    if k <= n-1:\n",
        "        sns.heatmap(data=pd.crosstab(df_bank_cross[df_bank_cross.columns[k+1]], df_bank_cross['y'], normalize='columns'), cmap='coolwarm', ax=ax) # 列方向に正規化\n",
        "        ax.set_title(df_bank_cross.columns[k+1])\n",
        "    else:\n",
        "        ax.axis('off')\n",
        "plt.tight_layout()\n",
        "plt.show()"
      ],
      "execution_count": 22,
      "outputs": [
        {
          "output_type": "display_data",
          "data": {
            "text/plain": [
              "<Figure size 1440x720 with 32 Axes>"
            ],
            "image/png": "[encoded data removed]"
          },
          "metadata": {
            "needs_background": "light"
          }
        }
      ]
    },
    {
      "cell_type": "markdown",
      "source": [
        "行方向に正規化"
      ],
      "metadata": {
        "id": "rUFZdqM3s77u"
      }
    },
    {
      "cell_type": "code",
      "metadata": {
        "colab": {
          "base_uri": "https://localhost:8080/",
          "height": 729
        },
        "id": "7TWOaib4MAHa",
        "outputId": "dd8e2f2b-51f3-4dd4-ad4b-2854c8f3ff2a"
      },
      "source": [
        "i=2\n",
        "j=8\n",
        "fig, axes = plt.subplots(nrows=i, ncols=j, figsize=(20, 10))\n",
        "\n",
        "n = len(df_bank_cross.columns)\n",
        "for k in range(n-2):\n",
        "    ax=axes[k//j, k%j]\n",
        "    if k <= n-1:\n",
        "        sns.heatmap(data=pd.crosstab(df_bank_cross[df_bank_cross.columns[k+1]], df_bank_cross['y'], normalize='index'), cmap='coolwarm', ax=ax) # 行方向に正規化\n",
        "        ax.set_title(df_bank_cross.columns[k+1])\n",
        "    else:\n",
        "        ax.axis('off')\n",
        "plt.tight_layout()\n",
        "plt.show()"
      ],
      "execution_count": 23,
      "outputs": [
        {
          "output_type": "display_data",
          "data": {
            "text/plain": [
              "<Figure size 1440x720 with 32 Axes>"
            ],
            "image/png": "[encoded data removed]"
          },
          "metadata": {
            "needs_background": "light"
          }
        }
      ]
    },
    {
      "cell_type": "markdown",
      "source": [
        "## レシピ4.4　ロジスティック回帰モデルの構築\n",
        "\n",
        "ロジスティック回帰の回帰式\n",
        "$$ logit(P) = \\log \\Bigl( \\frac{P}{1 - P} \\Bigr) = a_1 x_1 + a_2 x_2 + \\dots\t + a_n x_n + b  $$"
      ],
      "metadata": {
        "id": "KMhhJSoVHowx"
      }
    },
    {
      "cell_type": "markdown",
      "source": [
        "カテゴリ変数のダミー変数化\n",
        "\n",
        "※今回は変数のうち最初のカテゴリを取り除いている"
      ],
      "metadata": {
        "id": "C-YaGo08DCVF"
      }
    },
    {
      "cell_type": "code",
      "metadata": {
        "colab": {
          "base_uri": "https://localhost:8080/",
          "height": 490
        },
        "id": "aFrCr-iNBgLs",
        "outputId": "e0c436eb-96bc-431e-e390-603c1af3748a"
      },
      "source": [
        "print(pd.get_dummies(df_bank_quan).columns)\n",
        "print(pd.get_dummies(df_bank_quan, drop_first=True).columns)\n",
        "df_bank_quan_lr=pd.get_dummies(df_bank_quan, drop_first=True)\n",
        "df_bank_quan_lr.sample(n=5, random_state=777)"
      ],
      "execution_count": 24,
      "outputs": [
        {
          "output_type": "stream",
          "name": "stdout",
          "text": [
            "Index(['job_admin.', 'job_blue-collar', 'job_entrepreneur', 'job_housemaid', 'job_management', 'job_retired', 'job_self-employed', 'job_services', 'job_student', 'job_technician', 'job_unemployed',\n",
            "       'job_unknown', 'marital_divorced', 'marital_married', 'marital_single', 'education_primary', 'education_secondary', 'education_tertiary', 'education_unknown', 'default_no', 'default_yes',\n",
            "       'housing_no', 'housing_yes', 'loan_no', 'loan_yes', 'contact_cellular', 'contact_telephone', 'contact_unknown', 'month_apr', 'month_aug', 'month_dec', 'month_feb', 'month_jan', 'month_jul',\n",
            "       'month_jun', 'month_mar', 'month_may', 'month_nov', 'month_oct', 'month_sep', 'poutcome_failure', 'poutcome_other', 'poutcome_success', 'poutcome_unknown'],\n",
            "      dtype='object')\n",
            "Index(['job_blue-collar', 'job_entrepreneur', 'job_housemaid', 'job_management', 'job_retired', 'job_self-employed', 'job_services', 'job_student', 'job_technician', 'job_unemployed', 'job_unknown',\n",
            "       'marital_married', 'marital_single', 'education_secondary', 'education_tertiary', 'education_unknown', 'default_yes', 'housing_yes', 'loan_yes', 'contact_telephone', 'contact_unknown',\n",
            "       'month_aug', 'month_dec', 'month_feb', 'month_jan', 'month_jul', 'month_jun', 'month_mar', 'month_may', 'month_nov', 'month_oct', 'month_sep', 'poutcome_other', 'poutcome_success',\n",
            "       'poutcome_unknown'],\n",
            "      dtype='object')\n"
          ]
        },
        {
          "output_type": "execute_result",
          "data": {
            "text/plain": [
              "       job_blue-collar  job_entrepreneur  job_housemaid  job_management  job_retired  job_self-employed  job_services  job_student  job_technician  job_unemployed  ...  month_jul  month_jun  \\\n",
              "32881                0                 1              0               0            0                  0             0            0               0               0  ...          0          0   \n",
              "43750                0                 0              0               0            0                  0             0            0               1               0  ...          0          0   \n",
              "10167                0                 0              0               1            0                  0             0            0               0               0  ...          0          1   \n",
              "26702                1                 0              0               0            0                  0             0            0               0               0  ...          0          0   \n",
              "14875                1                 0              0               0            0                  0             0            0               0               0  ...          1          0   \n",
              "\n",
              "       month_mar  month_may  month_nov  month_oct  month_sep  poutcome_other  poutcome_success  poutcome_unknown  \n",
              "32881          0          0          0          0          0               0                 0                 1  \n",
              "43750          0          1          0          0          0               0                 1                 0  \n",
              "10167          0          0          0          0          0               0                 0                 1  \n",
              "26702          0          0          1          0          0               0                 0                 1  \n",
              "14875          0          0          0          0          0               0                 0                 1  \n",
              "\n",
              "[5 rows x 35 columns]"
            ],
            "text/html": [
              "\n",
              "  <div id=\"df-18ee8dbe-7dd8-496a-aabd-bdce7084609a\">\n",
              "    <div class=\"colab-df-container\">\n",
              "      <div>\n",
              "<style scoped>\n",
              "    .dataframe tbody tr th:only-of-type {\n",
              "        vertical-align: middle;\n",
              "    }\n",
              "\n",
              "    .dataframe tbody tr th {\n",
              "        vertical-align: top;\n",
              "    }\n",
              "\n",
              "    .dataframe thead th {\n",
              "        text-align: right;\n",
              "    }\n",
              "</style>\n",
              "<table border=\"1\" class=\"dataframe\">\n",
              "  <thead>\n",
              "    <tr style=\"text-align: right;\">\n",
              "      <th></th>\n",
              "      <th>job_blue-collar</th>\n",
              "      <th>job_entrepreneur</th>\n",
              "      <th>job_housemaid</th>\n",
              "      <th>job_management</th>\n",
              "      <th>job_retired</th>\n",
              "      <th>job_self-employed</th>\n",
              "      <th>job_services</th>\n",
              "      <th>job_student</th>\n",
              "      <th>job_technician</th>\n",
              "      <th>job_unemployed</th>\n",
              "      <th>...</th>\n",
              "      <th>month_jul</th>\n",
              "      <th>month_jun</th>\n",
              "      <th>month_mar</th>\n",
              "      <th>month_may</th>\n",
              "      <th>month_nov</th>\n",
              "      <th>month_oct</th>\n",
              "      <th>month_sep</th>\n",
              "      <th>poutcome_other</th>\n",
              "      <th>poutcome_success</th>\n",
              "      <th>poutcome_unknown</th>\n",
              "    </tr>\n",
              "  </thead>\n",
              "  <tbody>\n",
              "    <tr>\n",
              "      <th>32881</th>\n",
              "      <td>0</td>\n",
              "      <td>1</td>\n",
              "      <td>0</td>\n",
              "      <td>0</td>\n",
              "      <td>0</td>\n",
              "      <td>0</td>\n",
              "      <td>0</td>\n",
              "      <td>0</td>\n",
              "      <td>0</td>\n",
              "      <td>0</td>\n",
              "      <td>...</td>\n",
              "      <td>0</td>\n",
              "      <td>0</td>\n",
              "      <td>0</td>\n",
              "      <td>0</td>\n",
              "      <td>0</td>\n",
              "      <td>0</td>\n",
              "      <td>0</td>\n",
              "      <td>0</td>\n",
              "      <td>0</td>\n",
              "      <td>1</td>\n",
              "    </tr>\n",
              "    <tr>\n",
              "      <th>43750</th>\n",
              "      <td>0</td>\n",
              "      <td>0</td>\n",
              "      <td>0</td>\n",
              "      <td>0</td>\n",
              "      <td>0</td>\n",
              "      <td>0</td>\n",
              "      <td>0</td>\n",
              "      <td>0</td>\n",
              "      <td>1</td>\n",
              "      <td>0</td>\n",
              "      <td>...</td>\n",
              "      <td>0</td>\n",
              "      <td>0</td>\n",
              "      <td>0</td>\n",
              "      <td>1</td>\n",
              "      <td>0</td>\n",
              "      <td>0</td>\n",
              "      <td>0</td>\n",
              "      <td>0</td>\n",
              "      <td>1</td>\n",
              "      <td>0</td>\n",
              "    </tr>\n",
              "    <tr>\n",
              "      <th>10167</th>\n",
              "      <td>0</td>\n",
              "      <td>0</td>\n",
              "      <td>0</td>\n",
              "      <td>1</td>\n",
              "      <td>0</td>\n",
              "      <td>0</td>\n",
              "      <td>0</td>\n",
              "      <td>0</td>\n",
              "      <td>0</td>\n",
              "      <td>0</td>\n",
              "      <td>...</td>\n",
              "      <td>0</td>\n",
              "      <td>1</td>\n",
              "      <td>0</td>\n",
              "      <td>0</td>\n",
              "      <td>0</td>\n",
              "      <td>0</td>\n",
              "      <td>0</td>\n",
              "      <td>0</td>\n",
              "      <td>0</td>\n",
              "      <td>1</td>\n",
              "    </tr>\n",
              "    <tr>\n",
              "      <th>26702</th>\n",
              "      <td>1</td>\n",
              "      <td>0</td>\n",
              "      <td>0</td>\n",
              "      <td>0</td>\n",
              "      <td>0</td>\n",
              "      <td>0</td>\n",
              "      <td>0</td>\n",
              "      <td>0</td>\n",
              "      <td>0</td>\n",
              "      <td>0</td>\n",
              "      <td>...</td>\n",
              "      <td>0</td>\n",
              "      <td>0</td>\n",
              "      <td>0</td>\n",
              "      <td>0</td>\n",
              "      <td>1</td>\n",
              "      <td>0</td>\n",
              "      <td>0</td>\n",
              "      <td>0</td>\n",
              "      <td>0</td>\n",
              "      <td>1</td>\n",
              "    </tr>\n",
              "    <tr>\n",
              "      <th>14875</th>\n",
              "      <td>1</td>\n",
              "      <td>0</td>\n",
              "      <td>0</td>\n",
              "      <td>0</td>\n",
              "      <td>0</td>\n",
              "      <td>0</td>\n",
              "      <td>0</td>\n",
              "      <td>0</td>\n",
              "      <td>0</td>\n",
              "      <td>0</td>\n",
              "      <td>...</td>\n",
              "      <td>1</td>\n",
              "      <td>0</td>\n",
              "      <td>0</td>\n",
              "      <td>0</td>\n",
              "      <td>0</td>\n",
              "      <td>0</td>\n",
              "      <td>0</td>\n",
              "      <td>0</td>\n",
              "      <td>0</td>\n",
              "      <td>1</td>\n",
              "    </tr>\n",
              "  </tbody>\n",
              "</table>\n",
              "<p>5 rows × 35 columns</p>\n",
              "</div>\n",
              "      <button class=\"colab-df-convert\" onclick=\"convertToInteractive('df-18ee8dbe-7dd8-496a-aabd-bdce7084609a')\"\n",
              "              title=\"Convert this dataframe to an interactive table.\"\n",
              "              style=\"display:none;\">\n",
              "        \n",
              "  <svg xmlns=\"http://www.w3.org/2000/svg\" height=\"24px\"viewBox=\"0 0 24 24\"\n",
              "       width=\"24px\">\n",
              "    <path d=\"M0 0h24v24H0V0z\" fill=\"none\"/>\n",
              "    <path d=\"M18.56 5.44l.94 2.06.94-2.06 2.06-.94-2.06-.94-.94-2.06-.94 2.06-2.06.94zm-11 1L8.5 8.5l.94-2.06 2.06-.94-2.06-.94L8.5 2.5l-.94 2.06-2.06.94zm10 10l.94 2.06.94-2.06 2.06-.94-2.06-.94-.94-2.06-.94 2.06-2.06.94z\"/><path d=\"M17.41 7.96l-1.37-1.37c-.4-.4-.92-.59-1.43-.59-.52 0-1.04.2-1.43.59L10.3 9.45l-7.72 7.72c-.78.78-.78 2.05 0 2.83L4 21.41c.39.39.9.59 1.41.59.51 0 1.02-.2 1.41-.59l7.78-7.78 2.81-2.81c.8-.78.8-2.07 0-2.86zM5.41 20L4 18.59l7.72-7.72 1.47 1.35L5.41 20z\"/>\n",
              "  </svg>\n",
              "      </button>\n",
              "      \n",
              "  <style>\n",
              "    .colab-df-container {\n",
              "      display:flex;\n",
              "      flex-wrap:wrap;\n",
              "      gap: 12px;\n",
              "    }\n",
              "\n",
              "    .colab-df-convert {\n",
              "      background-color: #E8F0FE;\n",
              "      border: none;\n",
              "      border-radius: 50%;\n",
              "      cursor: pointer;\n",
              "      display: none;\n",
              "      fill: #1967D2;\n",
              "      height: 32px;\n",
              "      padding: 0 0 0 0;\n",
              "      width: 32px;\n",
              "    }\n",
              "\n",
              "    .colab-df-convert:hover {\n",
              "      background-color: #E2EBFA;\n",
              "      box-shadow: 0px 1px 2px rgba(60, 64, 67, 0.3), 0px 1px 3px 1px rgba(60, 64, 67, 0.15);\n",
              "      fill: #174EA6;\n",
              "    }\n",
              "\n",
              "    [theme=dark] .colab-df-convert {\n",
              "      background-color: #3B4455;\n",
              "      fill: #D2E3FC;\n",
              "    }\n",
              "\n",
              "    [theme=dark] .colab-df-convert:hover {\n",
              "      background-color: #434B5C;\n",
              "      box-shadow: 0px 1px 3px 1px rgba(0, 0, 0, 0.15);\n",
              "      filter: drop-shadow(0px 1px 2px rgba(0, 0, 0, 0.3));\n",
              "      fill: #FFFFFF;\n",
              "    }\n",
              "  </style>\n",
              "\n",
              "      <script>\n",
              "        const buttonEl =\n",
              "          document.querySelector('#df-18ee8dbe-7dd8-496a-aabd-bdce7084609a button.colab-df-convert');\n",
              "        buttonEl.style.display =\n",
              "          google.colab.kernel.accessAllowed ? 'block' : 'none';\n",
              "\n",
              "        async function convertToInteractive(key) {\n",
              "          const element = document.querySelector('#df-18ee8dbe-7dd8-496a-aabd-bdce7084609a');\n",
              "          const dataTable =\n",
              "            await google.colab.kernel.invokeFunction('convertToInteractive',\n",
              "                                                     [key], {});\n",
              "          if (!dataTable) return;\n",
              "\n",
              "          const docLinkHtml = 'Like what you see? Visit the ' +\n",
              "            '<a target=\"_blank\" href=https://colab.research.google.com/notebooks/data_table.ipynb>data table notebook</a>'\n",
              "            + ' to learn more about interactive tables.';\n",
              "          element.innerHTML = '';\n",
              "          dataTable['output_type'] = 'display_data';\n",
              "          await google.colab.output.renderOutput(dataTable, element);\n",
              "          const docLink = document.createElement('div');\n",
              "          docLink.innerHTML = docLinkHtml;\n",
              "          element.appendChild(docLink);\n",
              "        }\n",
              "      </script>\n",
              "    </div>\n",
              "  </div>\n",
              "  "
            ]
          },
          "metadata": {},
          "execution_count": 24
        }
      ]
    },
    {
      "cell_type": "markdown",
      "source": [
        "数値変数の正規化"
      ],
      "metadata": {
        "id": "Vq_Kx3-SDKW8"
      }
    },
    {
      "cell_type": "code",
      "metadata": {
        "colab": {
          "base_uri": "https://localhost:8080/",
          "height": 362
        },
        "id": "f-6H0kxNN0R3",
        "outputId": "3e41b472-3e3c-43f2-dcc1-a6660e69dbf6"
      },
      "source": [
        "from sklearn.preprocessing import MinMaxScaler\n",
        "\n",
        "df_bank_qual\n",
        "MMS = MinMaxScaler()\n",
        "df_bank_qual_lr=pd.DataFrame(MMS.fit_transform(df_bank_qual))\n",
        "df_bank_qual_lr.columns=df_bank_qual.columns\n",
        "print(df_bank_qual_lr.describe())\n",
        "df_bank_qual_lr.sample(n=5, random_state=777)"
      ],
      "execution_count": 25,
      "outputs": [
        {
          "output_type": "stream",
          "name": "stdout",
          "text": [
            "                age       balance           day      duration      campaign         pdays      previous\n",
            "count  45211.000000  45211.000000  45211.000000  45211.000000  45211.000000  45211.000000  45211.000000\n",
            "mean       0.297873      0.085171      0.493547      0.052494      0.028449      0.047245      0.002110\n",
            "std        0.137906      0.027643      0.277416      0.052364      0.049968      0.114827      0.008376\n",
            "min        0.000000      0.000000      0.000000      0.000000      0.000000      0.000000      0.000000\n",
            "25%        0.194805      0.073457      0.233333      0.020943      0.000000      0.000000      0.000000\n",
            "50%        0.272727      0.076871      0.500000      0.036600      0.016129      0.000000      0.000000\n",
            "75%        0.389610      0.085768      0.666667      0.064864      0.032258      0.000000      0.000000\n",
            "max        1.000000      1.000000      1.000000      1.000000      1.000000      1.000000      1.000000\n"
          ]
        },
        {
          "output_type": "execute_result",
          "data": {
            "text/plain": [
              "            age   balance       day  duration  campaign     pdays  previous\n",
              "32881  0.155844  0.077297  0.533333  0.078081  0.016129  0.000000  0.000000\n",
              "43750  0.454545  0.074574  0.600000  0.095974  0.000000  0.104358  0.021818\n",
              "10167  0.350649  0.089745  0.333333  0.023587  0.096774  0.000000  0.000000\n",
              "26702  0.376623  0.100675  0.633333  0.029280  0.016129  0.000000  0.000000\n",
              "14875  0.272727  0.073257  0.500000  0.029890  0.016129  0.000000  0.000000"
            ],
            "text/html": [
              "\n",
              "  <div id=\"df-8b530af5-d47e-4546-8c89-f0133c125416\">\n",
              "    <div class=\"colab-df-container\">\n",
              "      <div>\n",
              "<style scoped>\n",
              "    .dataframe tbody tr th:only-of-type {\n",
              "        vertical-align: middle;\n",
              "    }\n",
              "\n",
              "    .dataframe tbody tr th {\n",
              "        vertical-align: top;\n",
              "    }\n",
              "\n",
              "    .dataframe thead th {\n",
              "        text-align: right;\n",
              "    }\n",
              "</style>\n",
              "<table border=\"1\" class=\"dataframe\">\n",
              "  <thead>\n",
              "    <tr style=\"text-align: right;\">\n",
              "      <th></th>\n",
              "      <th>age</th>\n",
              "      <th>balance</th>\n",
              "      <th>day</th>\n",
              "      <th>duration</th>\n",
              "      <th>campaign</th>\n",
              "      <th>pdays</th>\n",
              "      <th>previous</th>\n",
              "    </tr>\n",
              "  </thead>\n",
              "  <tbody>\n",
              "    <tr>\n",
              "      <th>32881</th>\n",
              "      <td>0.155844</td>\n",
              "      <td>0.077297</td>\n",
              "      <td>0.533333</td>\n",
              "      <td>0.078081</td>\n",
              "      <td>0.016129</td>\n",
              "      <td>0.000000</td>\n",
              "      <td>0.000000</td>\n",
              "    </tr>\n",
              "    <tr>\n",
              "      <th>43750</th>\n",
              "      <td>0.454545</td>\n",
              "      <td>0.074574</td>\n",
              "      <td>0.600000</td>\n",
              "      <td>0.095974</td>\n",
              "      <td>0.000000</td>\n",
              "      <td>0.104358</td>\n",
              "      <td>0.021818</td>\n",
              "    </tr>\n",
              "    <tr>\n",
              "      <th>10167</th>\n",
              "      <td>0.350649</td>\n",
              "      <td>0.089745</td>\n",
              "      <td>0.333333</td>\n",
              "      <td>0.023587</td>\n",
              "      <td>0.096774</td>\n",
              "      <td>0.000000</td>\n",
              "      <td>0.000000</td>\n",
              "    </tr>\n",
              "    <tr>\n",
              "      <th>26702</th>\n",
              "      <td>0.376623</td>\n",
              "      <td>0.100675</td>\n",
              "      <td>0.633333</td>\n",
              "      <td>0.029280</td>\n",
              "      <td>0.016129</td>\n",
              "      <td>0.000000</td>\n",
              "      <td>0.000000</td>\n",
              "    </tr>\n",
              "    <tr>\n",
              "      <th>14875</th>\n",
              "      <td>0.272727</td>\n",
              "      <td>0.073257</td>\n",
              "      <td>0.500000</td>\n",
              "      <td>0.029890</td>\n",
              "      <td>0.016129</td>\n",
              "      <td>0.000000</td>\n",
              "      <td>0.000000</td>\n",
              "    </tr>\n",
              "  </tbody>\n",
              "</table>\n",
              "</div>\n",
              "      <button class=\"colab-df-convert\" onclick=\"convertToInteractive('df-8b530af5-d47e-4546-8c89-f0133c125416')\"\n",
              "              title=\"Convert this dataframe to an interactive table.\"\n",
              "              style=\"display:none;\">\n",
              "        \n",
              "  <svg xmlns=\"http://www.w3.org/2000/svg\" height=\"24px\"viewBox=\"0 0 24 24\"\n",
              "       width=\"24px\">\n",
              "    <path d=\"M0 0h24v24H0V0z\" fill=\"none\"/>\n",
              "    <path d=\"M18.56 5.44l.94 2.06.94-2.06 2.06-.94-2.06-.94-.94-2.06-.94 2.06-2.06.94zm-11 1L8.5 8.5l.94-2.06 2.06-.94-2.06-.94L8.5 2.5l-.94 2.06-2.06.94zm10 10l.94 2.06.94-2.06 2.06-.94-2.06-.94-.94-2.06-.94 2.06-2.06.94z\"/><path d=\"M17.41 7.96l-1.37-1.37c-.4-.4-.92-.59-1.43-.59-.52 0-1.04.2-1.43.59L10.3 9.45l-7.72 7.72c-.78.78-.78 2.05 0 2.83L4 21.41c.39.39.9.59 1.41.59.51 0 1.02-.2 1.41-.59l7.78-7.78 2.81-2.81c.8-.78.8-2.07 0-2.86zM5.41 20L4 18.59l7.72-7.72 1.47 1.35L5.41 20z\"/>\n",
              "  </svg>\n",
              "      </button>\n",
              "      \n",
              "  <style>\n",
              "    .colab-df-container {\n",
              "      display:flex;\n",
              "      flex-wrap:wrap;\n",
              "      gap: 12px;\n",
              "    }\n",
              "\n",
              "    .colab-df-convert {\n",
              "      background-color: #E8F0FE;\n",
              "      border: none;\n",
              "      border-radius: 50%;\n",
              "      cursor: pointer;\n",
              "      display: none;\n",
              "      fill: #1967D2;\n",
              "      height: 32px;\n",
              "      padding: 0 0 0 0;\n",
              "      width: 32px;\n",
              "    }\n",
              "\n",
              "    .colab-df-convert:hover {\n",
              "      background-color: #E2EBFA;\n",
              "      box-shadow: 0px 1px 2px rgba(60, 64, 67, 0.3), 0px 1px 3px 1px rgba(60, 64, 67, 0.15);\n",
              "      fill: #174EA6;\n",
              "    }\n",
              "\n",
              "    [theme=dark] .colab-df-convert {\n",
              "      background-color: #3B4455;\n",
              "      fill: #D2E3FC;\n",
              "    }\n",
              "\n",
              "    [theme=dark] .colab-df-convert:hover {\n",
              "      background-color: #434B5C;\n",
              "      box-shadow: 0px 1px 3px 1px rgba(0, 0, 0, 0.15);\n",
              "      filter: drop-shadow(0px 1px 2px rgba(0, 0, 0, 0.3));\n",
              "      fill: #FFFFFF;\n",
              "    }\n",
              "  </style>\n",
              "\n",
              "      <script>\n",
              "        const buttonEl =\n",
              "          document.querySelector('#df-8b530af5-d47e-4546-8c89-f0133c125416 button.colab-df-convert');\n",
              "        buttonEl.style.display =\n",
              "          google.colab.kernel.accessAllowed ? 'block' : 'none';\n",
              "\n",
              "        async function convertToInteractive(key) {\n",
              "          const element = document.querySelector('#df-8b530af5-d47e-4546-8c89-f0133c125416');\n",
              "          const dataTable =\n",
              "            await google.colab.kernel.invokeFunction('convertToInteractive',\n",
              "                                                     [key], {});\n",
              "          if (!dataTable) return;\n",
              "\n",
              "          const docLinkHtml = 'Like what you see? Visit the ' +\n",
              "            '<a target=\"_blank\" href=https://colab.research.google.com/notebooks/data_table.ipynb>data table notebook</a>'\n",
              "            + ' to learn more about interactive tables.';\n",
              "          element.innerHTML = '';\n",
              "          dataTable['output_type'] = 'display_data';\n",
              "          await google.colab.output.renderOutput(dataTable, element);\n",
              "          const docLink = document.createElement('div');\n",
              "          docLink.innerHTML = docLinkHtml;\n",
              "          element.appendChild(docLink);\n",
              "        }\n",
              "      </script>\n",
              "    </div>\n",
              "  </div>\n",
              "  "
            ]
          },
          "metadata": {},
          "execution_count": 25
        }
      ]
    },
    {
      "cell_type": "markdown",
      "source": [
        "正規化した数値変数列＋ダミー変数化したカテゴリ変数列　結合"
      ],
      "metadata": {
        "id": "FjUTBQiLGNBR"
      }
    },
    {
      "cell_type": "code",
      "metadata": {
        "colab": {
          "base_uri": "https://localhost:8080/",
          "height": 505
        },
        "id": "Z8NUZwPebbu_",
        "outputId": "4fef8236-178e-42d7-f39a-9860aff3dd48"
      },
      "source": [
        "df_bank_lr=pd.concat([df_bank['id'], df_bank_qual_lr, df_bank_quan_lr], axis=1)\n",
        "df_bank_lr"
      ],
      "execution_count": 26,
      "outputs": [
        {
          "output_type": "execute_result",
          "data": {
            "text/plain": [
              "          id       age   balance       day  duration  campaign     pdays  previous  job_blue-collar  job_entrepreneur  ...  month_jul  month_jun  month_mar  month_may  month_nov  month_oct  \\\n",
              "0          0  0.519481  0.092259  0.133333  0.053070  0.000000  0.000000  0.000000                0                 0  ...          0          0          0          1          0          0   \n",
              "1          1  0.337662  0.073067  0.133333  0.030704  0.000000  0.000000  0.000000                0                 0  ...          0          0          0          1          0          0   \n",
              "2          2  0.194805  0.072822  0.133333  0.015453  0.000000  0.000000  0.000000                0                 1  ...          0          0          0          1          0          0   \n",
              "3          3  0.376623  0.086476  0.133333  0.018707  0.000000  0.000000  0.000000                1                 0  ...          0          0          0          1          0          0   \n",
              "4          4  0.194805  0.072812  0.133333  0.040260  0.000000  0.000000  0.000000                0                 0  ...          0          0          0          1          0          0   \n",
              "...      ...       ...       ...       ...       ...       ...       ...       ...              ...               ...  ...        ...        ...        ...        ...        ...        ...   \n",
              "45206  45206  0.428571  0.080293  0.533333  0.198658  0.032258  0.000000  0.000000                0                 0  ...          0          0          0          0          1          0   \n",
              "45207  45207  0.688312  0.088501  0.533333  0.092721  0.016129  0.000000  0.000000                0                 0  ...          0          0          0          0          1          0   \n",
              "45208  45208  0.701299  0.124689  0.533333  0.229158  0.064516  0.212156  0.010909                0                 0  ...          0          0          0          0          1          0   \n",
              "45209  45209  0.506494  0.078868  0.533333  0.103294  0.048387  0.000000  0.000000                1                 0  ...          0          0          0          0          1          0   \n",
              "45210  45210  0.246753  0.099777  0.533333  0.073404  0.016129  0.216743  0.040000                0                 1  ...          0          0          0          0          1          0   \n",
              "\n",
              "       month_sep  poutcome_other  poutcome_success  poutcome_unknown  \n",
              "0              0               0                 0                 1  \n",
              "1              0               0                 0                 1  \n",
              "2              0               0                 0                 1  \n",
              "3              0               0                 0                 1  \n",
              "4              0               0                 0                 1  \n",
              "...          ...             ...               ...               ...  \n",
              "45206          0               0                 0                 1  \n",
              "45207          0               0                 0                 1  \n",
              "45208          0               0                 1                 0  \n",
              "45209          0               0                 0                 1  \n",
              "45210          0               1                 0                 0  \n",
              "\n",
              "[45211 rows x 43 columns]"
            ],
            "text/html": [
              "\n",
              "  <div id=\"df-2644fa76-ad1d-4c1a-a835-c83aa80dd599\">\n",
              "    <div class=\"colab-df-container\">\n",
              "      <div>\n",
              "<style scoped>\n",
              "    .dataframe tbody tr th:only-of-type {\n",
              "        vertical-align: middle;\n",
              "    }\n",
              "\n",
              "    .dataframe tbody tr th {\n",
              "        vertical-align: top;\n",
              "    }\n",
              "\n",
              "    .dataframe thead th {\n",
              "        text-align: right;\n",
              "    }\n",
              "</style>\n",
              "<table border=\"1\" class=\"dataframe\">\n",
              "  <thead>\n",
              "    <tr style=\"text-align: right;\">\n",
              "      <th></th>\n",
              "      <th>id</th>\n",
              "      <th>age</th>\n",
              "      <th>balance</th>\n",
              "      <th>day</th>\n",
              "      <th>duration</th>\n",
              "      <th>campaign</th>\n",
              "      <th>pdays</th>\n",
              "      <th>previous</th>\n",
              "      <th>job_blue-collar</th>\n",
              "      <th>job_entrepreneur</th>\n",
              "      <th>...</th>\n",
              "      <th>month_jul</th>\n",
              "      <th>month_jun</th>\n",
              "      <th>month_mar</th>\n",
              "      <th>month_may</th>\n",
              "      <th>month_nov</th>\n",
              "      <th>month_oct</th>\n",
              "      <th>month_sep</th>\n",
              "      <th>poutcome_other</th>\n",
              "      <th>poutcome_success</th>\n",
              "      <th>poutcome_unknown</th>\n",
              "    </tr>\n",
              "  </thead>\n",
              "  <tbody>\n",
              "    <tr>\n",
              "      <th>0</th>\n",
              "      <td>0</td>\n",
              "      <td>0.519481</td>\n",
              "      <td>0.092259</td>\n",
              "      <td>0.133333</td>\n",
              "      <td>0.053070</td>\n",
              "      <td>0.000000</td>\n",
              "      <td>0.000000</td>\n",
              "      <td>0.000000</td>\n",
              "      <td>0</td>\n",
              "      <td>0</td>\n",
              "      <td>...</td>\n",
              "      <td>0</td>\n",
              "      <td>0</td>\n",
              "      <td>0</td>\n",
              "      <td>1</td>\n",
              "      <td>0</td>\n",
              "      <td>0</td>\n",
              "      <td>0</td>\n",
              "      <td>0</td>\n",
              "      <td>0</td>\n",
              "      <td>1</td>\n",
              "    </tr>\n",
              "    <tr>\n",
              "      <th>1</th>\n",
              "      <td>1</td>\n",
              "      <td>0.337662</td>\n",
              "      <td>0.073067</td>\n",
              "      <td>0.133333</td>\n",
              "      <td>0.030704</td>\n",
              "      <td>0.000000</td>\n",
              "      <td>0.000000</td>\n",
              "      <td>0.000000</td>\n",
              "      <td>0</td>\n",
              "      <td>0</td>\n",
              "      <td>...</td>\n",
              "      <td>0</td>\n",
              "      <td>0</td>\n",
              "      <td>0</td>\n",
              "      <td>1</td>\n",
              "      <td>0</td>\n",
              "      <td>0</td>\n",
              "      <td>0</td>\n",
              "      <td>0</td>\n",
              "      <td>0</td>\n",
              "      <td>1</td>\n",
              "    </tr>\n",
              "    <tr>\n",
              "      <th>2</th>\n",
              "      <td>2</td>\n",
              "      <td>0.194805</td>\n",
              "      <td>0.072822</td>\n",
              "      <td>0.133333</td>\n",
              "      <td>0.015453</td>\n",
              "      <td>0.000000</td>\n",
              "      <td>0.000000</td>\n",
              "      <td>0.000000</td>\n",
              "      <td>0</td>\n",
              "      <td>1</td>\n",
              "      <td>...</td>\n",
              "      <td>0</td>\n",
              "      <td>0</td>\n",
              "      <td>0</td>\n",
              "      <td>1</td>\n",
              "      <td>0</td>\n",
              "      <td>0</td>\n",
              "      <td>0</td>\n",
              "      <td>0</td>\n",
              "      <td>0</td>\n",
              "      <td>1</td>\n",
              "    </tr>\n",
              "    <tr>\n",
              "      <th>3</th>\n",
              "      <td>3</td>\n",
              "      <td>0.376623</td>\n",
              "      <td>0.086476</td>\n",
              "      <td>0.133333</td>\n",
              "      <td>0.018707</td>\n",
              "      <td>0.000000</td>\n",
              "      <td>0.000000</td>\n",
              "      <td>0.000000</td>\n",
              "      <td>1</td>\n",
              "      <td>0</td>\n",
              "      <td>...</td>\n",
              "      <td>0</td>\n",
              "      <td>0</td>\n",
              "      <td>0</td>\n",
              "      <td>1</td>\n",
              "      <td>0</td>\n",
              "      <td>0</td>\n",
              "      <td>0</td>\n",
              "      <td>0</td>\n",
              "      <td>0</td>\n",
              "      <td>1</td>\n",
              "    </tr>\n",
              "    <tr>\n",
              "      <th>4</th>\n",
              "      <td>4</td>\n",
              "      <td>0.194805</td>\n",
              "      <td>0.072812</td>\n",
              "      <td>0.133333</td>\n",
              "      <td>0.040260</td>\n",
              "      <td>0.000000</td>\n",
              "      <td>0.000000</td>\n",
              "      <td>0.000000</td>\n",
              "      <td>0</td>\n",
              "      <td>0</td>\n",
              "      <td>...</td>\n",
              "      <td>0</td>\n",
              "      <td>0</td>\n",
              "      <td>0</td>\n",
              "      <td>1</td>\n",
              "      <td>0</td>\n",
              "      <td>0</td>\n",
              "      <td>0</td>\n",
              "      <td>0</td>\n",
              "      <td>0</td>\n",
              "      <td>1</td>\n",
              "    </tr>\n",
              "    <tr>\n",
              "      <th>...</th>\n",
              "      <td>...</td>\n",
              "      <td>...</td>\n",
              "      <td>...</td>\n",
              "      <td>...</td>\n",
              "      <td>...</td>\n",
              "      <td>...</td>\n",
              "      <td>...</td>\n",
              "      <td>...</td>\n",
              "      <td>...</td>\n",
              "      <td>...</td>\n",
              "      <td>...</td>\n",
              "      <td>...</td>\n",
              "      <td>...</td>\n",
              "      <td>...</td>\n",
              "      <td>...</td>\n",
              "      <td>...</td>\n",
              "      <td>...</td>\n",
              "      <td>...</td>\n",
              "      <td>...</td>\n",
              "      <td>...</td>\n",
              "      <td>...</td>\n",
              "    </tr>\n",
              "    <tr>\n",
              "      <th>45206</th>\n",
              "      <td>45206</td>\n",
              "      <td>0.428571</td>\n",
              "      <td>0.080293</td>\n",
              "      <td>0.533333</td>\n",
              "      <td>0.198658</td>\n",
              "      <td>0.032258</td>\n",
              "      <td>0.000000</td>\n",
              "      <td>0.000000</td>\n",
              "      <td>0</td>\n",
              "      <td>0</td>\n",
              "      <td>...</td>\n",
              "      <td>0</td>\n",
              "      <td>0</td>\n",
              "      <td>0</td>\n",
              "      <td>0</td>\n",
              "      <td>1</td>\n",
              "      <td>0</td>\n",
              "      <td>0</td>\n",
              "      <td>0</td>\n",
              "      <td>0</td>\n",
              "      <td>1</td>\n",
              "    </tr>\n",
              "    <tr>\n",
              "      <th>45207</th>\n",
              "      <td>45207</td>\n",
              "      <td>0.688312</td>\n",
              "      <td>0.088501</td>\n",
              "      <td>0.533333</td>\n",
              "      <td>0.092721</td>\n",
              "      <td>0.016129</td>\n",
              "      <td>0.000000</td>\n",
              "      <td>0.000000</td>\n",
              "      <td>0</td>\n",
              "      <td>0</td>\n",
              "      <td>...</td>\n",
              "      <td>0</td>\n",
              "      <td>0</td>\n",
              "      <td>0</td>\n",
              "      <td>0</td>\n",
              "      <td>1</td>\n",
              "      <td>0</td>\n",
              "      <td>0</td>\n",
              "      <td>0</td>\n",
              "      <td>0</td>\n",
              "      <td>1</td>\n",
              "    </tr>\n",
              "    <tr>\n",
              "      <th>45208</th>\n",
              "      <td>45208</td>\n",
              "      <td>0.701299</td>\n",
              "      <td>0.124689</td>\n",
              "      <td>0.533333</td>\n",
              "      <td>0.229158</td>\n",
              "      <td>0.064516</td>\n",
              "      <td>0.212156</td>\n",
              "      <td>0.010909</td>\n",
              "      <td>0</td>\n",
              "      <td>0</td>\n",
              "      <td>...</td>\n",
              "      <td>0</td>\n",
              "      <td>0</td>\n",
              "      <td>0</td>\n",
              "      <td>0</td>\n",
              "      <td>1</td>\n",
              "      <td>0</td>\n",
              "      <td>0</td>\n",
              "      <td>0</td>\n",
              "      <td>1</td>\n",
              "      <td>0</td>\n",
              "    </tr>\n",
              "    <tr>\n",
              "      <th>45209</th>\n",
              "      <td>45209</td>\n",
              "      <td>0.506494</td>\n",
              "      <td>0.078868</td>\n",
              "      <td>0.533333</td>\n",
              "      <td>0.103294</td>\n",
              "      <td>0.048387</td>\n",
              "      <td>0.000000</td>\n",
              "      <td>0.000000</td>\n",
              "      <td>1</td>\n",
              "      <td>0</td>\n",
              "      <td>...</td>\n",
              "      <td>0</td>\n",
              "      <td>0</td>\n",
              "      <td>0</td>\n",
              "      <td>0</td>\n",
              "      <td>1</td>\n",
              "      <td>0</td>\n",
              "      <td>0</td>\n",
              "      <td>0</td>\n",
              "      <td>0</td>\n",
              "      <td>1</td>\n",
              "    </tr>\n",
              "    <tr>\n",
              "      <th>45210</th>\n",
              "      <td>45210</td>\n",
              "      <td>0.246753</td>\n",
              "      <td>0.099777</td>\n",
              "      <td>0.533333</td>\n",
              "      <td>0.073404</td>\n",
              "      <td>0.016129</td>\n",
              "      <td>0.216743</td>\n",
              "      <td>0.040000</td>\n",
              "      <td>0</td>\n",
              "      <td>1</td>\n",
              "      <td>...</td>\n",
              "      <td>0</td>\n",
              "      <td>0</td>\n",
              "      <td>0</td>\n",
              "      <td>0</td>\n",
              "      <td>1</td>\n",
              "      <td>0</td>\n",
              "      <td>0</td>\n",
              "      <td>1</td>\n",
              "      <td>0</td>\n",
              "      <td>0</td>\n",
              "    </tr>\n",
              "  </tbody>\n",
              "</table>\n",
              "<p>45211 rows × 43 columns</p>\n",
              "</div>\n",
              "      <button class=\"colab-df-convert\" onclick=\"convertToInteractive('df-2644fa76-ad1d-4c1a-a835-c83aa80dd599')\"\n",
              "              title=\"Convert this dataframe to an interactive table.\"\n",
              "              style=\"display:none;\">\n",
              "        \n",
              "  <svg xmlns=\"http://www.w3.org/2000/svg\" height=\"24px\"viewBox=\"0 0 24 24\"\n",
              "       width=\"24px\">\n",
              "    <path d=\"M0 0h24v24H0V0z\" fill=\"none\"/>\n",
              "    <path d=\"M18.56 5.44l.94 2.06.94-2.06 2.06-.94-2.06-.94-.94-2.06-.94 2.06-2.06.94zm-11 1L8.5 8.5l.94-2.06 2.06-.94-2.06-.94L8.5 2.5l-.94 2.06-2.06.94zm10 10l.94 2.06.94-2.06 2.06-.94-2.06-.94-.94-2.06-.94 2.06-2.06.94z\"/><path d=\"M17.41 7.96l-1.37-1.37c-.4-.4-.92-.59-1.43-.59-.52 0-1.04.2-1.43.59L10.3 9.45l-7.72 7.72c-.78.78-.78 2.05 0 2.83L4 21.41c.39.39.9.59 1.41.59.51 0 1.02-.2 1.41-.59l7.78-7.78 2.81-2.81c.8-.78.8-2.07 0-2.86zM5.41 20L4 18.59l7.72-7.72 1.47 1.35L5.41 20z\"/>\n",
              "  </svg>\n",
              "      </button>\n",
              "      \n",
              "  <style>\n",
              "    .colab-df-container {\n",
              "      display:flex;\n",
              "      flex-wrap:wrap;\n",
              "      gap: 12px;\n",
              "    }\n",
              "\n",
              "    .colab-df-convert {\n",
              "      background-color: #E8F0FE;\n",
              "      border: none;\n",
              "      border-radius: 50%;\n",
              "      cursor: pointer;\n",
              "      display: none;\n",
              "      fill: #1967D2;\n",
              "      height: 32px;\n",
              "      padding: 0 0 0 0;\n",
              "      width: 32px;\n",
              "    }\n",
              "\n",
              "    .colab-df-convert:hover {\n",
              "      background-color: #E2EBFA;\n",
              "      box-shadow: 0px 1px 2px rgba(60, 64, 67, 0.3), 0px 1px 3px 1px rgba(60, 64, 67, 0.15);\n",
              "      fill: #174EA6;\n",
              "    }\n",
              "\n",
              "    [theme=dark] .colab-df-convert {\n",
              "      background-color: #3B4455;\n",
              "      fill: #D2E3FC;\n",
              "    }\n",
              "\n",
              "    [theme=dark] .colab-df-convert:hover {\n",
              "      background-color: #434B5C;\n",
              "      box-shadow: 0px 1px 3px 1px rgba(0, 0, 0, 0.15);\n",
              "      filter: drop-shadow(0px 1px 2px rgba(0, 0, 0, 0.3));\n",
              "      fill: #FFFFFF;\n",
              "    }\n",
              "  </style>\n",
              "\n",
              "      <script>\n",
              "        const buttonEl =\n",
              "          document.querySelector('#df-2644fa76-ad1d-4c1a-a835-c83aa80dd599 button.colab-df-convert');\n",
              "        buttonEl.style.display =\n",
              "          google.colab.kernel.accessAllowed ? 'block' : 'none';\n",
              "\n",
              "        async function convertToInteractive(key) {\n",
              "          const element = document.querySelector('#df-2644fa76-ad1d-4c1a-a835-c83aa80dd599');\n",
              "          const dataTable =\n",
              "            await google.colab.kernel.invokeFunction('convertToInteractive',\n",
              "                                                     [key], {});\n",
              "          if (!dataTable) return;\n",
              "\n",
              "          const docLinkHtml = 'Like what you see? Visit the ' +\n",
              "            '<a target=\"_blank\" href=https://colab.research.google.com/notebooks/data_table.ipynb>data table notebook</a>'\n",
              "            + ' to learn more about interactive tables.';\n",
              "          element.innerHTML = '';\n",
              "          dataTable['output_type'] = 'display_data';\n",
              "          await google.colab.output.renderOutput(dataTable, element);\n",
              "          const docLink = document.createElement('div');\n",
              "          docLink.innerHTML = docLinkHtml;\n",
              "          element.appendChild(docLink);\n",
              "        }\n",
              "      </script>\n",
              "    </div>\n",
              "  </div>\n",
              "  "
            ]
          },
          "metadata": {},
          "execution_count": 26
        }
      ]
    },
    {
      "cell_type": "markdown",
      "source": [
        "値の変換"
      ],
      "metadata": {
        "id": "Wep7YxRaLqzl"
      }
    },
    {
      "cell_type": "code",
      "metadata": {
        "colab": {
          "base_uri": "https://localhost:8080/"
        },
        "id": "mNPHIpy3NfrW",
        "outputId": "80141652-2306-4b2e-91ff-badf60003336"
      },
      "source": [
        "df_label_lr=copy(df_label)\n",
        "df_label_lr['y']=df_label_lr['y'].map(lambda x: 0 if x=='no' else 1)\n",
        "\n",
        "print(pd.unique(df_label['y']))\n",
        "print(pd.unique(df_label_lr['y']))"
      ],
      "execution_count": 27,
      "outputs": [
        {
          "output_type": "stream",
          "name": "stdout",
          "text": [
            "['no' 'yes']\n",
            "[0 1]\n"
          ]
        }
      ]
    },
    {
      "cell_type": "markdown",
      "source": [
        "データの分割\n",
        "\n",
        "訓練データ、テストデータ、評価データの3つに分類する場合は、train_test_splitを段階的に使う。"
      ],
      "metadata": {
        "id": "MYo2sDZGpXhF"
      }
    },
    {
      "cell_type": "code",
      "metadata": {
        "colab": {
          "base_uri": "https://localhost:8080/"
        },
        "id": "vZ1Ez9UhbmeI",
        "outputId": "61fdc36e-878a-4be9-b129-eae7dd4eb59b"
      },
      "source": [
        "df_bank_train, df_bank_testval, df_label_train, df_label_testval = train_test_split(\n",
        "    df_bank_lr, df_label_lr, test_size=0.6, stratify=df_label['y'], random_state=777\n",
        "    )\n",
        "df_bank_test, df_bank_val, df_label_test, df_label_val = train_test_split(\n",
        "    df_bank_testval, df_label_testval, test_size=0.5, stratify=df_label_testval['y'], random_state=777\n",
        "    )\n",
        "print(df_bank_train.shape)\n",
        "print(df_bank_test.shape)\n",
        "print(df_bank_val.shape)\n",
        "print(df_label_train.shape)\n",
        "print(df_label_test.shape)\n",
        "print(df_label_val.shape)"
      ],
      "execution_count": 28,
      "outputs": [
        {
          "output_type": "stream",
          "name": "stdout",
          "text": [
            "(18084, 43)\n",
            "(13563, 43)\n",
            "(13564, 43)\n",
            "(18084, 2)\n",
            "(13563, 2)\n",
            "(13564, 2)\n"
          ]
        }
      ]
    },
    {
      "cell_type": "code",
      "metadata": {
        "colab": {
          "base_uri": "https://localhost:8080/",
          "height": 424
        },
        "id": "kNW4ZN4qD17x",
        "outputId": "a197adaa-e75a-4920-a3a6-5cc4b9fd6e68"
      },
      "source": [
        "df_label_train"
      ],
      "execution_count": 29,
      "outputs": [
        {
          "output_type": "execute_result",
          "data": {
            "text/plain": [
              "          id  y\n",
              "17921  17921  0\n",
              "18463  18463  0\n",
              "2967    2967  0\n",
              "34653  34653  0\n",
              "39705  39705  0\n",
              "...      ... ..\n",
              "3442    3442  0\n",
              "33754  33754  1\n",
              "26096  26096  0\n",
              "38299  38299  0\n",
              "29545  29545  0\n",
              "\n",
              "[18084 rows x 2 columns]"
            ],
            "text/html": [
              "\n",
              "  <div id=\"df-568c71d2-7c9e-4eb8-b67b-6e28605289d8\">\n",
              "    <div class=\"colab-df-container\">\n",
              "      <div>\n",
              "<style scoped>\n",
              "    .dataframe tbody tr th:only-of-type {\n",
              "        vertical-align: middle;\n",
              "    }\n",
              "\n",
              "    .dataframe tbody tr th {\n",
              "        vertical-align: top;\n",
              "    }\n",
              "\n",
              "    .dataframe thead th {\n",
              "        text-align: right;\n",
              "    }\n",
              "</style>\n",
              "<table border=\"1\" class=\"dataframe\">\n",
              "  <thead>\n",
              "    <tr style=\"text-align: right;\">\n",
              "      <th></th>\n",
              "      <th>id</th>\n",
              "      <th>y</th>\n",
              "    </tr>\n",
              "  </thead>\n",
              "  <tbody>\n",
              "    <tr>\n",
              "      <th>17921</th>\n",
              "      <td>17921</td>\n",
              "      <td>0</td>\n",
              "    </tr>\n",
              "    <tr>\n",
              "      <th>18463</th>\n",
              "      <td>18463</td>\n",
              "      <td>0</td>\n",
              "    </tr>\n",
              "    <tr>\n",
              "      <th>2967</th>\n",
              "      <td>2967</td>\n",
              "      <td>0</td>\n",
              "    </tr>\n",
              "    <tr>\n",
              "      <th>34653</th>\n",
              "      <td>34653</td>\n",
              "      <td>0</td>\n",
              "    </tr>\n",
              "    <tr>\n",
              "      <th>39705</th>\n",
              "      <td>39705</td>\n",
              "      <td>0</td>\n",
              "    </tr>\n",
              "    <tr>\n",
              "      <th>...</th>\n",
              "      <td>...</td>\n",
              "      <td>...</td>\n",
              "    </tr>\n",
              "    <tr>\n",
              "      <th>3442</th>\n",
              "      <td>3442</td>\n",
              "      <td>0</td>\n",
              "    </tr>\n",
              "    <tr>\n",
              "      <th>33754</th>\n",
              "      <td>33754</td>\n",
              "      <td>1</td>\n",
              "    </tr>\n",
              "    <tr>\n",
              "      <th>26096</th>\n",
              "      <td>26096</td>\n",
              "      <td>0</td>\n",
              "    </tr>\n",
              "    <tr>\n",
              "      <th>38299</th>\n",
              "      <td>38299</td>\n",
              "      <td>0</td>\n",
              "    </tr>\n",
              "    <tr>\n",
              "      <th>29545</th>\n",
              "      <td>29545</td>\n",
              "      <td>0</td>\n",
              "    </tr>\n",
              "  </tbody>\n",
              "</table>\n",
              "<p>18084 rows × 2 columns</p>\n",
              "</div>\n",
              "      <button class=\"colab-df-convert\" onclick=\"convertToInteractive('df-568c71d2-7c9e-4eb8-b67b-6e28605289d8')\"\n",
              "              title=\"Convert this dataframe to an interactive table.\"\n",
              "              style=\"display:none;\">\n",
              "        \n",
              "  <svg xmlns=\"http://www.w3.org/2000/svg\" height=\"24px\"viewBox=\"0 0 24 24\"\n",
              "       width=\"24px\">\n",
              "    <path d=\"M0 0h24v24H0V0z\" fill=\"none\"/>\n",
              "    <path d=\"M18.56 5.44l.94 2.06.94-2.06 2.06-.94-2.06-.94-.94-2.06-.94 2.06-2.06.94zm-11 1L8.5 8.5l.94-2.06 2.06-.94-2.06-.94L8.5 2.5l-.94 2.06-2.06.94zm10 10l.94 2.06.94-2.06 2.06-.94-2.06-.94-.94-2.06-.94 2.06-2.06.94z\"/><path d=\"M17.41 7.96l-1.37-1.37c-.4-.4-.92-.59-1.43-.59-.52 0-1.04.2-1.43.59L10.3 9.45l-7.72 7.72c-.78.78-.78 2.05 0 2.83L4 21.41c.39.39.9.59 1.41.59.51 0 1.02-.2 1.41-.59l7.78-7.78 2.81-2.81c.8-.78.8-2.07 0-2.86zM5.41 20L4 18.59l7.72-7.72 1.47 1.35L5.41 20z\"/>\n",
              "  </svg>\n",
              "      </button>\n",
              "      \n",
              "  <style>\n",
              "    .colab-df-container {\n",
              "      display:flex;\n",
              "      flex-wrap:wrap;\n",
              "      gap: 12px;\n",
              "    }\n",
              "\n",
              "    .colab-df-convert {\n",
              "      background-color: #E8F0FE;\n",
              "      border: none;\n",
              "      border-radius: 50%;\n",
              "      cursor: pointer;\n",
              "      display: none;\n",
              "      fill: #1967D2;\n",
              "      height: 32px;\n",
              "      padding: 0 0 0 0;\n",
              "      width: 32px;\n",
              "    }\n",
              "\n",
              "    .colab-df-convert:hover {\n",
              "      background-color: #E2EBFA;\n",
              "      box-shadow: 0px 1px 2px rgba(60, 64, 67, 0.3), 0px 1px 3px 1px rgba(60, 64, 67, 0.15);\n",
              "      fill: #174EA6;\n",
              "    }\n",
              "\n",
              "    [theme=dark] .colab-df-convert {\n",
              "      background-color: #3B4455;\n",
              "      fill: #D2E3FC;\n",
              "    }\n",
              "\n",
              "    [theme=dark] .colab-df-convert:hover {\n",
              "      background-color: #434B5C;\n",
              "      box-shadow: 0px 1px 3px 1px rgba(0, 0, 0, 0.15);\n",
              "      filter: drop-shadow(0px 1px 2px rgba(0, 0, 0, 0.3));\n",
              "      fill: #FFFFFF;\n",
              "    }\n",
              "  </style>\n",
              "\n",
              "      <script>\n",
              "        const buttonEl =\n",
              "          document.querySelector('#df-568c71d2-7c9e-4eb8-b67b-6e28605289d8 button.colab-df-convert');\n",
              "        buttonEl.style.display =\n",
              "          google.colab.kernel.accessAllowed ? 'block' : 'none';\n",
              "\n",
              "        async function convertToInteractive(key) {\n",
              "          const element = document.querySelector('#df-568c71d2-7c9e-4eb8-b67b-6e28605289d8');\n",
              "          const dataTable =\n",
              "            await google.colab.kernel.invokeFunction('convertToInteractive',\n",
              "                                                     [key], {});\n",
              "          if (!dataTable) return;\n",
              "\n",
              "          const docLinkHtml = 'Like what you see? Visit the ' +\n",
              "            '<a target=\"_blank\" href=https://colab.research.google.com/notebooks/data_table.ipynb>data table notebook</a>'\n",
              "            + ' to learn more about interactive tables.';\n",
              "          element.innerHTML = '';\n",
              "          dataTable['output_type'] = 'display_data';\n",
              "          await google.colab.output.renderOutput(dataTable, element);\n",
              "          const docLink = document.createElement('div');\n",
              "          docLink.innerHTML = docLinkHtml;\n",
              "          element.appendChild(docLink);\n",
              "        }\n",
              "      </script>\n",
              "    </div>\n",
              "  </div>\n",
              "  "
            ]
          },
          "metadata": {},
          "execution_count": 29
        }
      ]
    },
    {
      "cell_type": "markdown",
      "source": [
        "LogisticRegressionの実行\n",
        "\n",
        "max_iterのデフォルト値は100。収束する前に打ち切られた。  \n",
        "https://scikit-learn.org/stable/modules/generated/sklearn.linear_model.LogisticRegression.html"
      ],
      "metadata": {
        "id": "RT4f9kf3MtCB"
      }
    },
    {
      "cell_type": "code",
      "metadata": {
        "id": "4to4AYguZ10B",
        "colab": {
          "base_uri": "https://localhost:8080/"
        },
        "outputId": "d6100e9c-ffbc-4a10-d8c9-8dce27b63b4e"
      },
      "source": [
        "from sklearn.linear_model import LogisticRegression\n",
        "\n",
        "x1=df_bank_train.drop('id', axis=1).values\n",
        "y1=df_label_train['y'].values\n",
        "\n",
        "lr_all = LogisticRegression()\n",
        "lr_all.fit(x1, y1)"
      ],
      "execution_count": 30,
      "outputs": [
        {
          "output_type": "stream",
          "name": "stderr",
          "text": [
            "/usr/local/lib/python3.7/dist-packages/sklearn/linear_model/_logistic.py:818: ConvergenceWarning: lbfgs failed to converge (status=1):\n",
            "STOP: TOTAL NO. of ITERATIONS REACHED LIMIT.\n",
            "\n",
            "Increase the number of iterations (max_iter) or scale the data as shown in:\n",
            "    https://scikit-learn.org/stable/modules/preprocessing.html\n",
            "Please also refer to the documentation for alternative solver options:\n",
            "    https://scikit-learn.org/stable/modules/linear_model.html#logistic-regression\n",
            "  extra_warning_msg=_LOGISTIC_SOLVER_CONVERGENCE_MSG,\n"
          ]
        },
        {
          "output_type": "execute_result",
          "data": {
            "text/plain": [
              "LogisticRegression()"
            ]
          },
          "metadata": {},
          "execution_count": 30
        }
      ]
    },
    {
      "cell_type": "markdown",
      "source": [
        "LogisticRegressionの実行（計算回数指定）\n",
        "\n",
        "max_iter=1000 では打切られる前に収束した模様"
      ],
      "metadata": {
        "id": "RIBUW7b8M7iC"
      }
    },
    {
      "cell_type": "code",
      "metadata": {
        "colab": {
          "base_uri": "https://localhost:8080/"
        },
        "id": "dap0ZYnREjS_",
        "outputId": "38fbda97-7bad-4fb9-e6ad-a3c3ef8323d4"
      },
      "source": [
        "lr_all = LogisticRegression(max_iter=1000)\n",
        "lr_all.fit(x1, y1)"
      ],
      "execution_count": 31,
      "outputs": [
        {
          "output_type": "execute_result",
          "data": {
            "text/plain": [
              "LogisticRegression(max_iter=1000)"
            ]
          },
          "metadata": {},
          "execution_count": 31
        }
      ]
    },
    {
      "cell_type": "markdown",
      "source": [
        "ロジスティック回帰モデルによる推定"
      ],
      "metadata": {
        "id": "pD8QszZ3uW35"
      }
    },
    {
      "cell_type": "code",
      "metadata": {
        "colab": {
          "base_uri": "https://localhost:8080/"
        },
        "id": "UmJ616dzSVbO",
        "outputId": "8f86ddf5-cab6-4e66-cb72-e3c3d19e46a3"
      },
      "source": [
        "X1=df_bank_test.drop('id', axis=1).values\n",
        "Y1=df_label_test['y'].values\n",
        "pred1=lr_all.predict(X1)\n",
        "corr1=Y1\n",
        "\n",
        "i=0\n",
        "j=len(pred1)\n",
        "for c, p in zip(corr1, pred1):\n",
        "    if c==p:\n",
        "        i+=1\n",
        "print(f'正解率: {i}/{j}={i/j}')"
      ],
      "execution_count": 32,
      "outputs": [
        {
          "output_type": "stream",
          "name": "stdout",
          "text": [
            "正解率: 12209/13563=0.9001695790016958\n"
          ]
        }
      ]
    },
    {
      "cell_type": "markdown",
      "source": [
        "##レシピ4.5　学習モデルの精度検証"
      ],
      "metadata": {
        "id": "--MszJdiufke"
      }
    },
    {
      "cell_type": "markdown",
      "source": [
        "精度の確認"
      ],
      "metadata": {
        "id": "D5kgXrEGN4Aj"
      }
    },
    {
      "cell_type": "code",
      "metadata": {
        "colab": {
          "base_uri": "https://localhost:8080/"
        },
        "id": "o-kZhiAoJEXy",
        "outputId": "299db8ac-661e-47f3-8920-e6ab4afd8f30"
      },
      "source": [
        "from sklearn.metrics import confusion_matrix, classification_report\n",
        "\n",
        "print(confusion_matrix(corr1, pred1))\n",
        "print(classification_report(corr1, pred1))"
      ],
      "execution_count": 33,
      "outputs": [
        {
          "output_type": "stream",
          "name": "stdout",
          "text": [
            "[[11732   245]\n",
            " [ 1109   477]]\n",
            "              precision    recall  f1-score   support\n",
            "\n",
            "           0       0.91      0.98      0.95     11977\n",
            "           1       0.66      0.30      0.41      1586\n",
            "\n",
            "    accuracy                           0.90     13563\n",
            "   macro avg       0.79      0.64      0.68     13563\n",
            "weighted avg       0.88      0.90      0.88     13563\n",
            "\n"
          ]
        }
      ]
    },
    {
      "cell_type": "markdown",
      "source": [
        "推定の検証（validationデータ）\n",
        "\n",
        "※1 > ※2　となっている"
      ],
      "metadata": {
        "id": "uiYHWMeLOLDb"
      }
    },
    {
      "cell_type": "code",
      "metadata": {
        "id": "Pl0k3WFtYYjq",
        "colab": {
          "base_uri": "https://localhost:8080/",
          "height": 156
        },
        "outputId": "68979a4d-29e4-406a-de00-cd780156c3e3"
      },
      "source": [
        "# df_label_val_smp=df_label_val.sample(frac=0.3, random_state=777)\n",
        "# df_bank_val_smp=df_bank_val.sample(frac=0.3, random_state=777)\n",
        "import numpy as np\n",
        "\n",
        "X2=df_bank_val.drop('id', axis=1).values\n",
        "Y2=df_label_val['y'].values\n",
        "pred2=lr_all.predict_proba(X2) # モデルがクラスごとにどのような確率を推定したか出力できる\n",
        "corr2=Y2\n",
        "df_val_prob=pd.DataFrame(np.concatenate([pred2, Y2.reshape(-1, 1)], axis=1), columns=['0', '1', 'corr']).sort_values('1', ascending=False) # キャンペーンの結果について有効の確率が高い順にソート\n",
        "display(df_val_prob.head(round(len(df_val_prob)*0.3)).value_counts('corr')) # ※1　キャンペーンの結果について有効の確率が高い順の上位30％で実際はどうだったか確認\n",
        "display(df_label_val.sample(n=round(len(df_label_val)*0.3), random_state=777).value_counts('y')) # ※2　ランダムに30％サンプリングした内容が実際どうだったか確認"
      ],
      "execution_count": 34,
      "outputs": [
        {
          "output_type": "display_data",
          "data": {
            "text/plain": [
              "corr\n",
              "0.0    2664\n",
              "1.0    1405\n",
              "dtype: int64"
            ]
          },
          "metadata": {}
        },
        {
          "output_type": "display_data",
          "data": {
            "text/plain": [
              "y\n",
              "0    3582\n",
              "1     487\n",
              "dtype: int64"
            ]
          },
          "metadata": {}
        }
      ]
    },
    {
      "cell_type": "markdown",
      "source": [
        "損益分岐点の計算\n",
        "\n",
        "以下を仮定\n",
        "- DMを1件を制作/発送する料金：70円\n",
        "- 1件契約が取れるごとの収益：100円\n",
        "\n",
        "上位40％までは利益が取れる模様"
      ],
      "metadata": {
        "id": "rYg2hNkZtzqT"
      }
    },
    {
      "cell_type": "code",
      "metadata": {
        "colab": {
          "base_uri": "https://localhost:8080/",
          "height": 363
        },
        "id": "2WesIpjBb27x",
        "outputId": "9afba38f-48f9-43e7-aac7-06285b7e1d64"
      },
      "source": [
        "def analysis_break_even(df_val_prob):\n",
        "    react_rate=[]\n",
        "    records=[]\n",
        "    react_means=[]\n",
        "    react_nums=[]\n",
        "    costs=[]\n",
        "    revenues=[]\n",
        "    for r in range(10):\n",
        "        rate = (r+1)*0.1\n",
        "        react_rate.append(rate)\n",
        "        record = round(len(df_val_prob)*rate*0.1)\n",
        "        records.append(record)\n",
        "        react_mean=df_val_prob.head(record).value_counts('corr')[1]/record\n",
        "        react_means.append(react_mean)\n",
        "        react_num=df_val_prob.head(record).value_counts('corr')[1]\n",
        "        react_nums.append(react_num)\n",
        "        cost=70*record\n",
        "        costs.append(cost)\n",
        "        revenue=100*react_num\n",
        "        revenues.append(revenue)\n",
        "    result=pd.DataFrame({\n",
        "          '反応率上位': react_rate,\n",
        "          '件数': records,\n",
        "          '平均反応率': react_means,\n",
        "          '反応数': react_nums,\n",
        "          'コスト':costs,\n",
        "          '期待収益':revenues,\n",
        "          '利益': [r-c for r, c in zip(revenues, costs)]\n",
        "        })\n",
        "    return result\n",
        "\n",
        "display(analysis_break_even(df_val_prob))"
      ],
      "execution_count": 38,
      "outputs": [
        {
          "output_type": "display_data",
          "data": {
            "text/plain": [
              "   反応率上位    件数     平均反応率  反応数    コスト   期待収益     利益\n",
              "0    0.1   136  0.764706  104   9520  10400    880\n",
              "1    0.2   271  0.726937  197  18970  19700    730\n",
              "2    0.3   407  0.717445  292  28490  29200    710\n",
              "3    0.4   543  0.709024  385  38010  38500    490\n",
              "4    0.5   678  0.696165  472  47460  47200   -260\n",
              "5    0.6   814  0.675676  550  56980  55000  -1980\n",
              "6    0.7   949  0.663857  630  66430  63000  -3430\n",
              "7    0.8  1085  0.645161  700  75950  70000  -5950\n",
              "8    0.9  1221  0.618346  755  85470  75500  -9970\n",
              "9    1.0  1356  0.599558  813  94920  81300 -13620"
            ],
            "text/html": [
              "\n",
              "  <div id=\"df-acf0eae2-4254-4908-9053-b02a1a18eb9b\">\n",
              "    <div class=\"colab-df-container\">\n",
              "      <div>\n",
              "<style scoped>\n",
              "    .dataframe tbody tr th:only-of-type {\n",
              "        vertical-align: middle;\n",
              "    }\n",
              "\n",
              "    .dataframe tbody tr th {\n",
              "        vertical-align: top;\n",
              "    }\n",
              "\n",
              "    .dataframe thead th {\n",
              "        text-align: right;\n",
              "    }\n",
              "</style>\n",
              "<table border=\"1\" class=\"dataframe\">\n",
              "  <thead>\n",
              "    <tr style=\"text-align: right;\">\n",
              "      <th></th>\n",
              "      <th>反応率上位</th>\n",
              "      <th>件数</th>\n",
              "      <th>平均反応率</th>\n",
              "      <th>反応数</th>\n",
              "      <th>コスト</th>\n",
              "      <th>期待収益</th>\n",
              "      <th>利益</th>\n",
              "    </tr>\n",
              "  </thead>\n",
              "  <tbody>\n",
              "    <tr>\n",
              "      <th>0</th>\n",
              "      <td>0.1</td>\n",
              "      <td>136</td>\n",
              "      <td>0.764706</td>\n",
              "      <td>104</td>\n",
              "      <td>9520</td>\n",
              "      <td>10400</td>\n",
              "      <td>880</td>\n",
              "    </tr>\n",
              "    <tr>\n",
              "      <th>1</th>\n",
              "      <td>0.2</td>\n",
              "      <td>271</td>\n",
              "      <td>0.726937</td>\n",
              "      <td>197</td>\n",
              "      <td>18970</td>\n",
              "      <td>19700</td>\n",
              "      <td>730</td>\n",
              "    </tr>\n",
              "    <tr>\n",
              "      <th>2</th>\n",
              "      <td>0.3</td>\n",
              "      <td>407</td>\n",
              "      <td>0.717445</td>\n",
              "      <td>292</td>\n",
              "      <td>28490</td>\n",
              "      <td>29200</td>\n",
              "      <td>710</td>\n",
              "    </tr>\n",
              "    <tr>\n",
              "      <th>3</th>\n",
              "      <td>0.4</td>\n",
              "      <td>543</td>\n",
              "      <td>0.709024</td>\n",
              "      <td>385</td>\n",
              "      <td>38010</td>\n",
              "      <td>38500</td>\n",
              "      <td>490</td>\n",
              "    </tr>\n",
              "    <tr>\n",
              "      <th>4</th>\n",
              "      <td>0.5</td>\n",
              "      <td>678</td>\n",
              "      <td>0.696165</td>\n",
              "      <td>472</td>\n",
              "      <td>47460</td>\n",
              "      <td>47200</td>\n",
              "      <td>-260</td>\n",
              "    </tr>\n",
              "    <tr>\n",
              "      <th>5</th>\n",
              "      <td>0.6</td>\n",
              "      <td>814</td>\n",
              "      <td>0.675676</td>\n",
              "      <td>550</td>\n",
              "      <td>56980</td>\n",
              "      <td>55000</td>\n",
              "      <td>-1980</td>\n",
              "    </tr>\n",
              "    <tr>\n",
              "      <th>6</th>\n",
              "      <td>0.7</td>\n",
              "      <td>949</td>\n",
              "      <td>0.663857</td>\n",
              "      <td>630</td>\n",
              "      <td>66430</td>\n",
              "      <td>63000</td>\n",
              "      <td>-3430</td>\n",
              "    </tr>\n",
              "    <tr>\n",
              "      <th>7</th>\n",
              "      <td>0.8</td>\n",
              "      <td>1085</td>\n",
              "      <td>0.645161</td>\n",
              "      <td>700</td>\n",
              "      <td>75950</td>\n",
              "      <td>70000</td>\n",
              "      <td>-5950</td>\n",
              "    </tr>\n",
              "    <tr>\n",
              "      <th>8</th>\n",
              "      <td>0.9</td>\n",
              "      <td>1221</td>\n",
              "      <td>0.618346</td>\n",
              "      <td>755</td>\n",
              "      <td>85470</td>\n",
              "      <td>75500</td>\n",
              "      <td>-9970</td>\n",
              "    </tr>\n",
              "    <tr>\n",
              "      <th>9</th>\n",
              "      <td>1.0</td>\n",
              "      <td>1356</td>\n",
              "      <td>0.599558</td>\n",
              "      <td>813</td>\n",
              "      <td>94920</td>\n",
              "      <td>81300</td>\n",
              "      <td>-13620</td>\n",
              "    </tr>\n",
              "  </tbody>\n",
              "</table>\n",
              "</div>\n",
              "      <button class=\"colab-df-convert\" onclick=\"convertToInteractive('df-acf0eae2-4254-4908-9053-b02a1a18eb9b')\"\n",
              "              title=\"Convert this dataframe to an interactive table.\"\n",
              "              style=\"display:none;\">\n",
              "        \n",
              "  <svg xmlns=\"http://www.w3.org/2000/svg\" height=\"24px\"viewBox=\"0 0 24 24\"\n",
              "       width=\"24px\">\n",
              "    <path d=\"M0 0h24v24H0V0z\" fill=\"none\"/>\n",
              "    <path d=\"M18.56 5.44l.94 2.06.94-2.06 2.06-.94-2.06-.94-.94-2.06-.94 2.06-2.06.94zm-11 1L8.5 8.5l.94-2.06 2.06-.94-2.06-.94L8.5 2.5l-.94 2.06-2.06.94zm10 10l.94 2.06.94-2.06 2.06-.94-2.06-.94-.94-2.06-.94 2.06-2.06.94z\"/><path d=\"M17.41 7.96l-1.37-1.37c-.4-.4-.92-.59-1.43-.59-.52 0-1.04.2-1.43.59L10.3 9.45l-7.72 7.72c-.78.78-.78 2.05 0 2.83L4 21.41c.39.39.9.59 1.41.59.51 0 1.02-.2 1.41-.59l7.78-7.78 2.81-2.81c.8-.78.8-2.07 0-2.86zM5.41 20L4 18.59l7.72-7.72 1.47 1.35L5.41 20z\"/>\n",
              "  </svg>\n",
              "      </button>\n",
              "      \n",
              "  <style>\n",
              "    .colab-df-container {\n",
              "      display:flex;\n",
              "      flex-wrap:wrap;\n",
              "      gap: 12px;\n",
              "    }\n",
              "\n",
              "    .colab-df-convert {\n",
              "      background-color: #E8F0FE;\n",
              "      border: none;\n",
              "      border-radius: 50%;\n",
              "      cursor: pointer;\n",
              "      display: none;\n",
              "      fill: #1967D2;\n",
              "      height: 32px;\n",
              "      padding: 0 0 0 0;\n",
              "      width: 32px;\n",
              "    }\n",
              "\n",
              "    .colab-df-convert:hover {\n",
              "      background-color: #E2EBFA;\n",
              "      box-shadow: 0px 1px 2px rgba(60, 64, 67, 0.3), 0px 1px 3px 1px rgba(60, 64, 67, 0.15);\n",
              "      fill: #174EA6;\n",
              "    }\n",
              "\n",
              "    [theme=dark] .colab-df-convert {\n",
              "      background-color: #3B4455;\n",
              "      fill: #D2E3FC;\n",
              "    }\n",
              "\n",
              "    [theme=dark] .colab-df-convert:hover {\n",
              "      background-color: #434B5C;\n",
              "      box-shadow: 0px 1px 3px 1px rgba(0, 0, 0, 0.15);\n",
              "      filter: drop-shadow(0px 1px 2px rgba(0, 0, 0, 0.3));\n",
              "      fill: #FFFFFF;\n",
              "    }\n",
              "  </style>\n",
              "\n",
              "      <script>\n",
              "        const buttonEl =\n",
              "          document.querySelector('#df-acf0eae2-4254-4908-9053-b02a1a18eb9b button.colab-df-convert');\n",
              "        buttonEl.style.display =\n",
              "          google.colab.kernel.accessAllowed ? 'block' : 'none';\n",
              "\n",
              "        async function convertToInteractive(key) {\n",
              "          const element = document.querySelector('#df-acf0eae2-4254-4908-9053-b02a1a18eb9b');\n",
              "          const dataTable =\n",
              "            await google.colab.kernel.invokeFunction('convertToInteractive',\n",
              "                                                     [key], {});\n",
              "          if (!dataTable) return;\n",
              "\n",
              "          const docLinkHtml = 'Like what you see? Visit the ' +\n",
              "            '<a target=\"_blank\" href=https://colab.research.google.com/notebooks/data_table.ipynb>data table notebook</a>'\n",
              "            + ' to learn more about interactive tables.';\n",
              "          element.innerHTML = '';\n",
              "          dataTable['output_type'] = 'display_data';\n",
              "          await google.colab.output.renderOutput(dataTable, element);\n",
              "          const docLink = document.createElement('div');\n",
              "          docLink.innerHTML = docLinkHtml;\n",
              "          element.appendChild(docLink);\n",
              "        }\n",
              "      </script>\n",
              "    </div>\n",
              "  </div>\n",
              "  "
            ]
          },
          "metadata": {}
        }
      ]
    }
  ]
}